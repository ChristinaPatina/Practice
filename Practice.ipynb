{
  "nbformat": 4,
  "nbformat_minor": 0,
  "metadata": {
    "colab": {
      "name": "Practice.ipynb",
      "provenance": [],
      "collapsed_sections": []
    },
    "kernelspec": {
      "name": "python3",
      "display_name": "Python 3"
    },
    "accelerator": "GPU",
    "widgets": {
      "application/vnd.jupyter.widget-state+json": {
        "f007f3e9bdc549cbb59d2c9b9c80d7b5": {
          "model_module": "@jupyter-widgets/controls",
          "model_name": "HBoxModel",
          "state": {
            "_view_name": "HBoxView",
            "_dom_classes": [],
            "_model_name": "HBoxModel",
            "_view_module": "@jupyter-widgets/controls",
            "_model_module_version": "1.5.0",
            "_view_count": null,
            "_view_module_version": "1.5.0",
            "box_style": "",
            "layout": "IPY_MODEL_6c5ce2f08ffc48b68bcfd98e15237175",
            "_model_module": "@jupyter-widgets/controls",
            "children": [
              "IPY_MODEL_a4b449d9044d4aa68dd3a3c5fa15eb6c",
              "IPY_MODEL_2abd7ababa614d97940edd9a9f4f530f"
            ]
          }
        },
        "6c5ce2f08ffc48b68bcfd98e15237175": {
          "model_module": "@jupyter-widgets/base",
          "model_name": "LayoutModel",
          "state": {
            "_view_name": "LayoutView",
            "grid_template_rows": null,
            "right": null,
            "justify_content": null,
            "_view_module": "@jupyter-widgets/base",
            "overflow": null,
            "_model_module_version": "1.2.0",
            "_view_count": null,
            "flex_flow": null,
            "width": null,
            "min_width": null,
            "border": null,
            "align_items": null,
            "bottom": null,
            "_model_module": "@jupyter-widgets/base",
            "top": null,
            "grid_column": null,
            "overflow_y": null,
            "overflow_x": null,
            "grid_auto_flow": null,
            "grid_area": null,
            "grid_template_columns": null,
            "flex": null,
            "_model_name": "LayoutModel",
            "justify_items": null,
            "grid_row": null,
            "max_height": null,
            "align_content": null,
            "visibility": null,
            "align_self": null,
            "height": null,
            "min_height": null,
            "padding": null,
            "grid_auto_rows": null,
            "grid_gap": null,
            "max_width": null,
            "order": null,
            "_view_module_version": "1.2.0",
            "grid_template_areas": null,
            "object_position": null,
            "object_fit": null,
            "grid_auto_columns": null,
            "margin": null,
            "display": null,
            "left": null
          }
        },
        "a4b449d9044d4aa68dd3a3c5fa15eb6c": {
          "model_module": "@jupyter-widgets/controls",
          "model_name": "FloatProgressModel",
          "state": {
            "_view_name": "ProgressView",
            "style": "IPY_MODEL_2393c5d9cbda41c9bcc081580f896dde",
            "_dom_classes": [],
            "description": "Epoch: 100%",
            "_model_name": "FloatProgressModel",
            "bar_style": "success",
            "max": 2,
            "_view_module": "@jupyter-widgets/controls",
            "_model_module_version": "1.5.0",
            "value": 2,
            "_view_count": null,
            "_view_module_version": "1.5.0",
            "orientation": "horizontal",
            "min": 0,
            "description_tooltip": null,
            "_model_module": "@jupyter-widgets/controls",
            "layout": "IPY_MODEL_90dab49fb874436ebccbf982a948513f"
          }
        },
        "2abd7ababa614d97940edd9a9f4f530f": {
          "model_module": "@jupyter-widgets/controls",
          "model_name": "HTMLModel",
          "state": {
            "_view_name": "HTMLView",
            "style": "IPY_MODEL_7720e61a87e1432882214d7ef88fdc53",
            "_dom_classes": [],
            "description": "",
            "_model_name": "HTMLModel",
            "placeholder": "​",
            "_view_module": "@jupyter-widgets/controls",
            "_model_module_version": "1.5.0",
            "value": " 2/2 [4:09:00&lt;00:00, 7470.21s/it]",
            "_view_count": null,
            "_view_module_version": "1.5.0",
            "description_tooltip": null,
            "_model_module": "@jupyter-widgets/controls",
            "layout": "IPY_MODEL_7acb2b21bf8b4ee2962a34c3e54a9e5b"
          }
        },
        "2393c5d9cbda41c9bcc081580f896dde": {
          "model_module": "@jupyter-widgets/controls",
          "model_name": "ProgressStyleModel",
          "state": {
            "_view_name": "StyleView",
            "_model_name": "ProgressStyleModel",
            "description_width": "initial",
            "_view_module": "@jupyter-widgets/base",
            "_model_module_version": "1.5.0",
            "_view_count": null,
            "_view_module_version": "1.2.0",
            "bar_color": null,
            "_model_module": "@jupyter-widgets/controls"
          }
        },
        "90dab49fb874436ebccbf982a948513f": {
          "model_module": "@jupyter-widgets/base",
          "model_name": "LayoutModel",
          "state": {
            "_view_name": "LayoutView",
            "grid_template_rows": null,
            "right": null,
            "justify_content": null,
            "_view_module": "@jupyter-widgets/base",
            "overflow": null,
            "_model_module_version": "1.2.0",
            "_view_count": null,
            "flex_flow": null,
            "width": null,
            "min_width": null,
            "border": null,
            "align_items": null,
            "bottom": null,
            "_model_module": "@jupyter-widgets/base",
            "top": null,
            "grid_column": null,
            "overflow_y": null,
            "overflow_x": null,
            "grid_auto_flow": null,
            "grid_area": null,
            "grid_template_columns": null,
            "flex": null,
            "_model_name": "LayoutModel",
            "justify_items": null,
            "grid_row": null,
            "max_height": null,
            "align_content": null,
            "visibility": null,
            "align_self": null,
            "height": null,
            "min_height": null,
            "padding": null,
            "grid_auto_rows": null,
            "grid_gap": null,
            "max_width": null,
            "order": null,
            "_view_module_version": "1.2.0",
            "grid_template_areas": null,
            "object_position": null,
            "object_fit": null,
            "grid_auto_columns": null,
            "margin": null,
            "display": null,
            "left": null
          }
        },
        "7720e61a87e1432882214d7ef88fdc53": {
          "model_module": "@jupyter-widgets/controls",
          "model_name": "DescriptionStyleModel",
          "state": {
            "_view_name": "StyleView",
            "_model_name": "DescriptionStyleModel",
            "description_width": "",
            "_view_module": "@jupyter-widgets/base",
            "_model_module_version": "1.5.0",
            "_view_count": null,
            "_view_module_version": "1.2.0",
            "_model_module": "@jupyter-widgets/controls"
          }
        },
        "7acb2b21bf8b4ee2962a34c3e54a9e5b": {
          "model_module": "@jupyter-widgets/base",
          "model_name": "LayoutModel",
          "state": {
            "_view_name": "LayoutView",
            "grid_template_rows": null,
            "right": null,
            "justify_content": null,
            "_view_module": "@jupyter-widgets/base",
            "overflow": null,
            "_model_module_version": "1.2.0",
            "_view_count": null,
            "flex_flow": null,
            "width": null,
            "min_width": null,
            "border": null,
            "align_items": null,
            "bottom": null,
            "_model_module": "@jupyter-widgets/base",
            "top": null,
            "grid_column": null,
            "overflow_y": null,
            "overflow_x": null,
            "grid_auto_flow": null,
            "grid_area": null,
            "grid_template_columns": null,
            "flex": null,
            "_model_name": "LayoutModel",
            "justify_items": null,
            "grid_row": null,
            "max_height": null,
            "align_content": null,
            "visibility": null,
            "align_self": null,
            "height": null,
            "min_height": null,
            "padding": null,
            "grid_auto_rows": null,
            "grid_gap": null,
            "max_width": null,
            "order": null,
            "_view_module_version": "1.2.0",
            "grid_template_areas": null,
            "object_position": null,
            "object_fit": null,
            "grid_auto_columns": null,
            "margin": null,
            "display": null,
            "left": null
          }
        },
        "4d16bcda0f1846f18f4f7ba4b2bafd59": {
          "model_module": "@jupyter-widgets/controls",
          "model_name": "HBoxModel",
          "state": {
            "_view_name": "HBoxView",
            "_dom_classes": [],
            "_model_name": "HBoxModel",
            "_view_module": "@jupyter-widgets/controls",
            "_model_module_version": "1.5.0",
            "_view_count": null,
            "_view_module_version": "1.5.0",
            "box_style": "",
            "layout": "IPY_MODEL_b88490286e8d450fb05d67863e05dd22",
            "_model_module": "@jupyter-widgets/controls",
            "children": [
              "IPY_MODEL_2791426d3ca041f6a3c8d3f5c786da45",
              "IPY_MODEL_5541861dc6494ad7a33919a0d1a182f8"
            ]
          }
        },
        "b88490286e8d450fb05d67863e05dd22": {
          "model_module": "@jupyter-widgets/base",
          "model_name": "LayoutModel",
          "state": {
            "_view_name": "LayoutView",
            "grid_template_rows": null,
            "right": null,
            "justify_content": null,
            "_view_module": "@jupyter-widgets/base",
            "overflow": null,
            "_model_module_version": "1.2.0",
            "_view_count": null,
            "flex_flow": null,
            "width": null,
            "min_width": null,
            "border": null,
            "align_items": null,
            "bottom": null,
            "_model_module": "@jupyter-widgets/base",
            "top": null,
            "grid_column": null,
            "overflow_y": null,
            "overflow_x": null,
            "grid_auto_flow": null,
            "grid_area": null,
            "grid_template_columns": null,
            "flex": null,
            "_model_name": "LayoutModel",
            "justify_items": null,
            "grid_row": null,
            "max_height": null,
            "align_content": null,
            "visibility": null,
            "align_self": null,
            "height": null,
            "min_height": null,
            "padding": null,
            "grid_auto_rows": null,
            "grid_gap": null,
            "max_width": null,
            "order": null,
            "_view_module_version": "1.2.0",
            "grid_template_areas": null,
            "object_position": null,
            "object_fit": null,
            "grid_auto_columns": null,
            "margin": null,
            "display": null,
            "left": null
          }
        },
        "2791426d3ca041f6a3c8d3f5c786da45": {
          "model_module": "@jupyter-widgets/controls",
          "model_name": "FloatProgressModel",
          "state": {
            "_view_name": "ProgressView",
            "style": "IPY_MODEL_879f1f1aecca40a6a974eaaab3b8c77c",
            "_dom_classes": [],
            "description": "Iteration: 100%",
            "_model_name": "FloatProgressModel",
            "bar_style": "success",
            "max": 4772,
            "_view_module": "@jupyter-widgets/controls",
            "_model_module_version": "1.5.0",
            "value": 4772,
            "_view_count": null,
            "_view_module_version": "1.5.0",
            "orientation": "horizontal",
            "min": 0,
            "description_tooltip": null,
            "_model_module": "@jupyter-widgets/controls",
            "layout": "IPY_MODEL_5904e242bdf444d7ae13c29c5b490029"
          }
        },
        "5541861dc6494ad7a33919a0d1a182f8": {
          "model_module": "@jupyter-widgets/controls",
          "model_name": "HTMLModel",
          "state": {
            "_view_name": "HTMLView",
            "style": "IPY_MODEL_bffcb1325b66481c97471e151ede383a",
            "_dom_classes": [],
            "description": "",
            "_model_name": "HTMLModel",
            "placeholder": "​",
            "_view_module": "@jupyter-widgets/controls",
            "_model_module_version": "1.5.0",
            "value": " 4772/4772 [4:09:00&lt;00:00,  3.13s/it]",
            "_view_count": null,
            "_view_module_version": "1.5.0",
            "description_tooltip": null,
            "_model_module": "@jupyter-widgets/controls",
            "layout": "IPY_MODEL_241541c882ea4d029e7f6b781a3af713"
          }
        },
        "879f1f1aecca40a6a974eaaab3b8c77c": {
          "model_module": "@jupyter-widgets/controls",
          "model_name": "ProgressStyleModel",
          "state": {
            "_view_name": "StyleView",
            "_model_name": "ProgressStyleModel",
            "description_width": "initial",
            "_view_module": "@jupyter-widgets/base",
            "_model_module_version": "1.5.0",
            "_view_count": null,
            "_view_module_version": "1.2.0",
            "bar_color": null,
            "_model_module": "@jupyter-widgets/controls"
          }
        },
        "5904e242bdf444d7ae13c29c5b490029": {
          "model_module": "@jupyter-widgets/base",
          "model_name": "LayoutModel",
          "state": {
            "_view_name": "LayoutView",
            "grid_template_rows": null,
            "right": null,
            "justify_content": null,
            "_view_module": "@jupyter-widgets/base",
            "overflow": null,
            "_model_module_version": "1.2.0",
            "_view_count": null,
            "flex_flow": null,
            "width": null,
            "min_width": null,
            "border": null,
            "align_items": null,
            "bottom": null,
            "_model_module": "@jupyter-widgets/base",
            "top": null,
            "grid_column": null,
            "overflow_y": null,
            "overflow_x": null,
            "grid_auto_flow": null,
            "grid_area": null,
            "grid_template_columns": null,
            "flex": null,
            "_model_name": "LayoutModel",
            "justify_items": null,
            "grid_row": null,
            "max_height": null,
            "align_content": null,
            "visibility": null,
            "align_self": null,
            "height": null,
            "min_height": null,
            "padding": null,
            "grid_auto_rows": null,
            "grid_gap": null,
            "max_width": null,
            "order": null,
            "_view_module_version": "1.2.0",
            "grid_template_areas": null,
            "object_position": null,
            "object_fit": null,
            "grid_auto_columns": null,
            "margin": null,
            "display": null,
            "left": null
          }
        },
        "bffcb1325b66481c97471e151ede383a": {
          "model_module": "@jupyter-widgets/controls",
          "model_name": "DescriptionStyleModel",
          "state": {
            "_view_name": "StyleView",
            "_model_name": "DescriptionStyleModel",
            "description_width": "",
            "_view_module": "@jupyter-widgets/base",
            "_model_module_version": "1.5.0",
            "_view_count": null,
            "_view_module_version": "1.2.0",
            "_model_module": "@jupyter-widgets/controls"
          }
        },
        "241541c882ea4d029e7f6b781a3af713": {
          "model_module": "@jupyter-widgets/base",
          "model_name": "LayoutModel",
          "state": {
            "_view_name": "LayoutView",
            "grid_template_rows": null,
            "right": null,
            "justify_content": null,
            "_view_module": "@jupyter-widgets/base",
            "overflow": null,
            "_model_module_version": "1.2.0",
            "_view_count": null,
            "flex_flow": null,
            "width": null,
            "min_width": null,
            "border": null,
            "align_items": null,
            "bottom": null,
            "_model_module": "@jupyter-widgets/base",
            "top": null,
            "grid_column": null,
            "overflow_y": null,
            "overflow_x": null,
            "grid_auto_flow": null,
            "grid_area": null,
            "grid_template_columns": null,
            "flex": null,
            "_model_name": "LayoutModel",
            "justify_items": null,
            "grid_row": null,
            "max_height": null,
            "align_content": null,
            "visibility": null,
            "align_self": null,
            "height": null,
            "min_height": null,
            "padding": null,
            "grid_auto_rows": null,
            "grid_gap": null,
            "max_width": null,
            "order": null,
            "_view_module_version": "1.2.0",
            "grid_template_areas": null,
            "object_position": null,
            "object_fit": null,
            "grid_auto_columns": null,
            "margin": null,
            "display": null,
            "left": null
          }
        },
        "d109daf0ebf14be38c8c5ba08a8ecc36": {
          "model_module": "@jupyter-widgets/controls",
          "model_name": "HBoxModel",
          "state": {
            "_view_name": "HBoxView",
            "_dom_classes": [],
            "_model_name": "HBoxModel",
            "_view_module": "@jupyter-widgets/controls",
            "_model_module_version": "1.5.0",
            "_view_count": null,
            "_view_module_version": "1.5.0",
            "box_style": "",
            "layout": "IPY_MODEL_35b5c6a87ee141c6beef6f2896748377",
            "_model_module": "@jupyter-widgets/controls",
            "children": [
              "IPY_MODEL_df14d41b8afc48a7a001f29227a72385",
              "IPY_MODEL_95f95b7b1cfe447e869ecdc333f0b14e"
            ]
          }
        },
        "35b5c6a87ee141c6beef6f2896748377": {
          "model_module": "@jupyter-widgets/base",
          "model_name": "LayoutModel",
          "state": {
            "_view_name": "LayoutView",
            "grid_template_rows": null,
            "right": null,
            "justify_content": null,
            "_view_module": "@jupyter-widgets/base",
            "overflow": null,
            "_model_module_version": "1.2.0",
            "_view_count": null,
            "flex_flow": null,
            "width": null,
            "min_width": null,
            "border": null,
            "align_items": null,
            "bottom": null,
            "_model_module": "@jupyter-widgets/base",
            "top": null,
            "grid_column": null,
            "overflow_y": null,
            "overflow_x": null,
            "grid_auto_flow": null,
            "grid_area": null,
            "grid_template_columns": null,
            "flex": null,
            "_model_name": "LayoutModel",
            "justify_items": null,
            "grid_row": null,
            "max_height": null,
            "align_content": null,
            "visibility": null,
            "align_self": null,
            "height": null,
            "min_height": null,
            "padding": null,
            "grid_auto_rows": null,
            "grid_gap": null,
            "max_width": null,
            "order": null,
            "_view_module_version": "1.2.0",
            "grid_template_areas": null,
            "object_position": null,
            "object_fit": null,
            "grid_auto_columns": null,
            "margin": null,
            "display": null,
            "left": null
          }
        },
        "df14d41b8afc48a7a001f29227a72385": {
          "model_module": "@jupyter-widgets/controls",
          "model_name": "FloatProgressModel",
          "state": {
            "_view_name": "ProgressView",
            "style": "IPY_MODEL_139a6019c29545a28f7b6f4f6041e719",
            "_dom_classes": [],
            "description": "Iteration: 100%",
            "_model_name": "FloatProgressModel",
            "bar_style": "success",
            "max": 4772,
            "_view_module": "@jupyter-widgets/controls",
            "_model_module_version": "1.5.0",
            "value": 4772,
            "_view_count": null,
            "_view_module_version": "1.5.0",
            "orientation": "horizontal",
            "min": 0,
            "description_tooltip": null,
            "_model_module": "@jupyter-widgets/controls",
            "layout": "IPY_MODEL_fc897f1c1a904956994c536f30d34c5b"
          }
        },
        "95f95b7b1cfe447e869ecdc333f0b14e": {
          "model_module": "@jupyter-widgets/controls",
          "model_name": "HTMLModel",
          "state": {
            "_view_name": "HTMLView",
            "style": "IPY_MODEL_cd85c4fce52a48c3ba6be6cfe3674595",
            "_dom_classes": [],
            "description": "",
            "_model_name": "HTMLModel",
            "placeholder": "​",
            "_view_module": "@jupyter-widgets/controls",
            "_model_module_version": "1.5.0",
            "value": " 4772/4772 [2:03:49&lt;00:00,  1.56s/it]",
            "_view_count": null,
            "_view_module_version": "1.5.0",
            "description_tooltip": null,
            "_model_module": "@jupyter-widgets/controls",
            "layout": "IPY_MODEL_7b7eaf520c0f4b7486a35498d55294bc"
          }
        },
        "139a6019c29545a28f7b6f4f6041e719": {
          "model_module": "@jupyter-widgets/controls",
          "model_name": "ProgressStyleModel",
          "state": {
            "_view_name": "StyleView",
            "_model_name": "ProgressStyleModel",
            "description_width": "initial",
            "_view_module": "@jupyter-widgets/base",
            "_model_module_version": "1.5.0",
            "_view_count": null,
            "_view_module_version": "1.2.0",
            "bar_color": null,
            "_model_module": "@jupyter-widgets/controls"
          }
        },
        "fc897f1c1a904956994c536f30d34c5b": {
          "model_module": "@jupyter-widgets/base",
          "model_name": "LayoutModel",
          "state": {
            "_view_name": "LayoutView",
            "grid_template_rows": null,
            "right": null,
            "justify_content": null,
            "_view_module": "@jupyter-widgets/base",
            "overflow": null,
            "_model_module_version": "1.2.0",
            "_view_count": null,
            "flex_flow": null,
            "width": null,
            "min_width": null,
            "border": null,
            "align_items": null,
            "bottom": null,
            "_model_module": "@jupyter-widgets/base",
            "top": null,
            "grid_column": null,
            "overflow_y": null,
            "overflow_x": null,
            "grid_auto_flow": null,
            "grid_area": null,
            "grid_template_columns": null,
            "flex": null,
            "_model_name": "LayoutModel",
            "justify_items": null,
            "grid_row": null,
            "max_height": null,
            "align_content": null,
            "visibility": null,
            "align_self": null,
            "height": null,
            "min_height": null,
            "padding": null,
            "grid_auto_rows": null,
            "grid_gap": null,
            "max_width": null,
            "order": null,
            "_view_module_version": "1.2.0",
            "grid_template_areas": null,
            "object_position": null,
            "object_fit": null,
            "grid_auto_columns": null,
            "margin": null,
            "display": null,
            "left": null
          }
        },
        "cd85c4fce52a48c3ba6be6cfe3674595": {
          "model_module": "@jupyter-widgets/controls",
          "model_name": "DescriptionStyleModel",
          "state": {
            "_view_name": "StyleView",
            "_model_name": "DescriptionStyleModel",
            "description_width": "",
            "_view_module": "@jupyter-widgets/base",
            "_model_module_version": "1.5.0",
            "_view_count": null,
            "_view_module_version": "1.2.0",
            "_model_module": "@jupyter-widgets/controls"
          }
        },
        "7b7eaf520c0f4b7486a35498d55294bc": {
          "model_module": "@jupyter-widgets/base",
          "model_name": "LayoutModel",
          "state": {
            "_view_name": "LayoutView",
            "grid_template_rows": null,
            "right": null,
            "justify_content": null,
            "_view_module": "@jupyter-widgets/base",
            "overflow": null,
            "_model_module_version": "1.2.0",
            "_view_count": null,
            "flex_flow": null,
            "width": null,
            "min_width": null,
            "border": null,
            "align_items": null,
            "bottom": null,
            "_model_module": "@jupyter-widgets/base",
            "top": null,
            "grid_column": null,
            "overflow_y": null,
            "overflow_x": null,
            "grid_auto_flow": null,
            "grid_area": null,
            "grid_template_columns": null,
            "flex": null,
            "_model_name": "LayoutModel",
            "justify_items": null,
            "grid_row": null,
            "max_height": null,
            "align_content": null,
            "visibility": null,
            "align_self": null,
            "height": null,
            "min_height": null,
            "padding": null,
            "grid_auto_rows": null,
            "grid_gap": null,
            "max_width": null,
            "order": null,
            "_view_module_version": "1.2.0",
            "grid_template_areas": null,
            "object_position": null,
            "object_fit": null,
            "grid_auto_columns": null,
            "margin": null,
            "display": null,
            "left": null
          }
        },
        "6d9ea0d3da104086ad864e0b6760c188": {
          "model_module": "@jupyter-widgets/controls",
          "model_name": "HBoxModel",
          "state": {
            "_view_name": "HBoxView",
            "_dom_classes": [],
            "_model_name": "HBoxModel",
            "_view_module": "@jupyter-widgets/controls",
            "_model_module_version": "1.5.0",
            "_view_count": null,
            "_view_module_version": "1.5.0",
            "box_style": "",
            "layout": "IPY_MODEL_fa691c78c5874af6a3325c256ec7ed43",
            "_model_module": "@jupyter-widgets/controls",
            "children": [
              "IPY_MODEL_66554b02d45b46c7abbe145eb0c56556",
              "IPY_MODEL_4e068268b42f44a982a79021bed76d1f"
            ]
          }
        },
        "fa691c78c5874af6a3325c256ec7ed43": {
          "model_module": "@jupyter-widgets/base",
          "model_name": "LayoutModel",
          "state": {
            "_view_name": "LayoutView",
            "grid_template_rows": null,
            "right": null,
            "justify_content": null,
            "_view_module": "@jupyter-widgets/base",
            "overflow": null,
            "_model_module_version": "1.2.0",
            "_view_count": null,
            "flex_flow": null,
            "width": null,
            "min_width": null,
            "border": null,
            "align_items": null,
            "bottom": null,
            "_model_module": "@jupyter-widgets/base",
            "top": null,
            "grid_column": null,
            "overflow_y": null,
            "overflow_x": null,
            "grid_auto_flow": null,
            "grid_area": null,
            "grid_template_columns": null,
            "flex": null,
            "_model_name": "LayoutModel",
            "justify_items": null,
            "grid_row": null,
            "max_height": null,
            "align_content": null,
            "visibility": null,
            "align_self": null,
            "height": null,
            "min_height": null,
            "padding": null,
            "grid_auto_rows": null,
            "grid_gap": null,
            "max_width": null,
            "order": null,
            "_view_module_version": "1.2.0",
            "grid_template_areas": null,
            "object_position": null,
            "object_fit": null,
            "grid_auto_columns": null,
            "margin": null,
            "display": null,
            "left": null
          }
        },
        "66554b02d45b46c7abbe145eb0c56556": {
          "model_module": "@jupyter-widgets/controls",
          "model_name": "FloatProgressModel",
          "state": {
            "_view_name": "ProgressView",
            "style": "IPY_MODEL_fe4fa51a0f724020b418347c443fab2b",
            "_dom_classes": [],
            "description": "Epoch: 100%",
            "_model_name": "FloatProgressModel",
            "bar_style": "success",
            "max": 2,
            "_view_module": "@jupyter-widgets/controls",
            "_model_module_version": "1.5.0",
            "value": 2,
            "_view_count": null,
            "_view_module_version": "1.5.0",
            "orientation": "horizontal",
            "min": 0,
            "description_tooltip": null,
            "_model_module": "@jupyter-widgets/controls",
            "layout": "IPY_MODEL_1c0ae50e6f60475bb3dfe15d452cb243"
          }
        },
        "4e068268b42f44a982a79021bed76d1f": {
          "model_module": "@jupyter-widgets/controls",
          "model_name": "HTMLModel",
          "state": {
            "_view_name": "HTMLView",
            "style": "IPY_MODEL_6450647fb0a1443199dcaae50e71669e",
            "_dom_classes": [],
            "description": "",
            "_model_name": "HTMLModel",
            "placeholder": "​",
            "_view_module": "@jupyter-widgets/controls",
            "_model_module_version": "1.5.0",
            "value": " 2/2 [2:53:47&lt;00:00, 5213.52s/it]",
            "_view_count": null,
            "_view_module_version": "1.5.0",
            "description_tooltip": null,
            "_model_module": "@jupyter-widgets/controls",
            "layout": "IPY_MODEL_3cfe1a43a80041a4aeb60e98e0082639"
          }
        },
        "fe4fa51a0f724020b418347c443fab2b": {
          "model_module": "@jupyter-widgets/controls",
          "model_name": "ProgressStyleModel",
          "state": {
            "_view_name": "StyleView",
            "_model_name": "ProgressStyleModel",
            "description_width": "initial",
            "_view_module": "@jupyter-widgets/base",
            "_model_module_version": "1.5.0",
            "_view_count": null,
            "_view_module_version": "1.2.0",
            "bar_color": null,
            "_model_module": "@jupyter-widgets/controls"
          }
        },
        "1c0ae50e6f60475bb3dfe15d452cb243": {
          "model_module": "@jupyter-widgets/base",
          "model_name": "LayoutModel",
          "state": {
            "_view_name": "LayoutView",
            "grid_template_rows": null,
            "right": null,
            "justify_content": null,
            "_view_module": "@jupyter-widgets/base",
            "overflow": null,
            "_model_module_version": "1.2.0",
            "_view_count": null,
            "flex_flow": null,
            "width": null,
            "min_width": null,
            "border": null,
            "align_items": null,
            "bottom": null,
            "_model_module": "@jupyter-widgets/base",
            "top": null,
            "grid_column": null,
            "overflow_y": null,
            "overflow_x": null,
            "grid_auto_flow": null,
            "grid_area": null,
            "grid_template_columns": null,
            "flex": null,
            "_model_name": "LayoutModel",
            "justify_items": null,
            "grid_row": null,
            "max_height": null,
            "align_content": null,
            "visibility": null,
            "align_self": null,
            "height": null,
            "min_height": null,
            "padding": null,
            "grid_auto_rows": null,
            "grid_gap": null,
            "max_width": null,
            "order": null,
            "_view_module_version": "1.2.0",
            "grid_template_areas": null,
            "object_position": null,
            "object_fit": null,
            "grid_auto_columns": null,
            "margin": null,
            "display": null,
            "left": null
          }
        },
        "6450647fb0a1443199dcaae50e71669e": {
          "model_module": "@jupyter-widgets/controls",
          "model_name": "DescriptionStyleModel",
          "state": {
            "_view_name": "StyleView",
            "_model_name": "DescriptionStyleModel",
            "description_width": "",
            "_view_module": "@jupyter-widgets/base",
            "_model_module_version": "1.5.0",
            "_view_count": null,
            "_view_module_version": "1.2.0",
            "_model_module": "@jupyter-widgets/controls"
          }
        },
        "3cfe1a43a80041a4aeb60e98e0082639": {
          "model_module": "@jupyter-widgets/base",
          "model_name": "LayoutModel",
          "state": {
            "_view_name": "LayoutView",
            "grid_template_rows": null,
            "right": null,
            "justify_content": null,
            "_view_module": "@jupyter-widgets/base",
            "overflow": null,
            "_model_module_version": "1.2.0",
            "_view_count": null,
            "flex_flow": null,
            "width": null,
            "min_width": null,
            "border": null,
            "align_items": null,
            "bottom": null,
            "_model_module": "@jupyter-widgets/base",
            "top": null,
            "grid_column": null,
            "overflow_y": null,
            "overflow_x": null,
            "grid_auto_flow": null,
            "grid_area": null,
            "grid_template_columns": null,
            "flex": null,
            "_model_name": "LayoutModel",
            "justify_items": null,
            "grid_row": null,
            "max_height": null,
            "align_content": null,
            "visibility": null,
            "align_self": null,
            "height": null,
            "min_height": null,
            "padding": null,
            "grid_auto_rows": null,
            "grid_gap": null,
            "max_width": null,
            "order": null,
            "_view_module_version": "1.2.0",
            "grid_template_areas": null,
            "object_position": null,
            "object_fit": null,
            "grid_auto_columns": null,
            "margin": null,
            "display": null,
            "left": null
          }
        },
        "a41bcc53834344ddb8e67243fd99f42c": {
          "model_module": "@jupyter-widgets/controls",
          "model_name": "HBoxModel",
          "state": {
            "_view_name": "HBoxView",
            "_dom_classes": [],
            "_model_name": "HBoxModel",
            "_view_module": "@jupyter-widgets/controls",
            "_model_module_version": "1.5.0",
            "_view_count": null,
            "_view_module_version": "1.5.0",
            "box_style": "",
            "layout": "IPY_MODEL_604c9163f1614cecbd0e39661978ff2a",
            "_model_module": "@jupyter-widgets/controls",
            "children": [
              "IPY_MODEL_bbb935a74c32483894972abed97ea19b",
              "IPY_MODEL_cce6d4ea421846fa8d67c17255f56f0a"
            ]
          }
        },
        "604c9163f1614cecbd0e39661978ff2a": {
          "model_module": "@jupyter-widgets/base",
          "model_name": "LayoutModel",
          "state": {
            "_view_name": "LayoutView",
            "grid_template_rows": null,
            "right": null,
            "justify_content": null,
            "_view_module": "@jupyter-widgets/base",
            "overflow": null,
            "_model_module_version": "1.2.0",
            "_view_count": null,
            "flex_flow": null,
            "width": null,
            "min_width": null,
            "border": null,
            "align_items": null,
            "bottom": null,
            "_model_module": "@jupyter-widgets/base",
            "top": null,
            "grid_column": null,
            "overflow_y": null,
            "overflow_x": null,
            "grid_auto_flow": null,
            "grid_area": null,
            "grid_template_columns": null,
            "flex": null,
            "_model_name": "LayoutModel",
            "justify_items": null,
            "grid_row": null,
            "max_height": null,
            "align_content": null,
            "visibility": null,
            "align_self": null,
            "height": null,
            "min_height": null,
            "padding": null,
            "grid_auto_rows": null,
            "grid_gap": null,
            "max_width": null,
            "order": null,
            "_view_module_version": "1.2.0",
            "grid_template_areas": null,
            "object_position": null,
            "object_fit": null,
            "grid_auto_columns": null,
            "margin": null,
            "display": null,
            "left": null
          }
        },
        "bbb935a74c32483894972abed97ea19b": {
          "model_module": "@jupyter-widgets/controls",
          "model_name": "FloatProgressModel",
          "state": {
            "_view_name": "ProgressView",
            "style": "IPY_MODEL_647e4528ea634e13b68615049933e1ae",
            "_dom_classes": [],
            "description": "Iteration: 100%",
            "_model_name": "FloatProgressModel",
            "bar_style": "success",
            "max": 118,
            "_view_module": "@jupyter-widgets/controls",
            "_model_module_version": "1.5.0",
            "value": 118,
            "_view_count": null,
            "_view_module_version": "1.5.0",
            "orientation": "horizontal",
            "min": 0,
            "description_tooltip": null,
            "_model_module": "@jupyter-widgets/controls",
            "layout": "IPY_MODEL_92b9251eae6c492c9d81059b7eecd0a4"
          }
        },
        "cce6d4ea421846fa8d67c17255f56f0a": {
          "model_module": "@jupyter-widgets/controls",
          "model_name": "HTMLModel",
          "state": {
            "_view_name": "HTMLView",
            "style": "IPY_MODEL_ced317b4239345c58aec730382ddbdd3",
            "_dom_classes": [],
            "description": "",
            "_model_name": "HTMLModel",
            "placeholder": "​",
            "_view_module": "@jupyter-widgets/controls",
            "_model_module_version": "1.5.0",
            "value": " 118/118 [2:53:47&lt;00:00, 88.36s/it]",
            "_view_count": null,
            "_view_module_version": "1.5.0",
            "description_tooltip": null,
            "_model_module": "@jupyter-widgets/controls",
            "layout": "IPY_MODEL_a897438759a749118ffdf0f0e7d9c29e"
          }
        },
        "647e4528ea634e13b68615049933e1ae": {
          "model_module": "@jupyter-widgets/controls",
          "model_name": "ProgressStyleModel",
          "state": {
            "_view_name": "StyleView",
            "_model_name": "ProgressStyleModel",
            "description_width": "initial",
            "_view_module": "@jupyter-widgets/base",
            "_model_module_version": "1.5.0",
            "_view_count": null,
            "_view_module_version": "1.2.0",
            "bar_color": null,
            "_model_module": "@jupyter-widgets/controls"
          }
        },
        "92b9251eae6c492c9d81059b7eecd0a4": {
          "model_module": "@jupyter-widgets/base",
          "model_name": "LayoutModel",
          "state": {
            "_view_name": "LayoutView",
            "grid_template_rows": null,
            "right": null,
            "justify_content": null,
            "_view_module": "@jupyter-widgets/base",
            "overflow": null,
            "_model_module_version": "1.2.0",
            "_view_count": null,
            "flex_flow": null,
            "width": null,
            "min_width": null,
            "border": null,
            "align_items": null,
            "bottom": null,
            "_model_module": "@jupyter-widgets/base",
            "top": null,
            "grid_column": null,
            "overflow_y": null,
            "overflow_x": null,
            "grid_auto_flow": null,
            "grid_area": null,
            "grid_template_columns": null,
            "flex": null,
            "_model_name": "LayoutModel",
            "justify_items": null,
            "grid_row": null,
            "max_height": null,
            "align_content": null,
            "visibility": null,
            "align_self": null,
            "height": null,
            "min_height": null,
            "padding": null,
            "grid_auto_rows": null,
            "grid_gap": null,
            "max_width": null,
            "order": null,
            "_view_module_version": "1.2.0",
            "grid_template_areas": null,
            "object_position": null,
            "object_fit": null,
            "grid_auto_columns": null,
            "margin": null,
            "display": null,
            "left": null
          }
        },
        "ced317b4239345c58aec730382ddbdd3": {
          "model_module": "@jupyter-widgets/controls",
          "model_name": "DescriptionStyleModel",
          "state": {
            "_view_name": "StyleView",
            "_model_name": "DescriptionStyleModel",
            "description_width": "",
            "_view_module": "@jupyter-widgets/base",
            "_model_module_version": "1.5.0",
            "_view_count": null,
            "_view_module_version": "1.2.0",
            "_model_module": "@jupyter-widgets/controls"
          }
        },
        "a897438759a749118ffdf0f0e7d9c29e": {
          "model_module": "@jupyter-widgets/base",
          "model_name": "LayoutModel",
          "state": {
            "_view_name": "LayoutView",
            "grid_template_rows": null,
            "right": null,
            "justify_content": null,
            "_view_module": "@jupyter-widgets/base",
            "overflow": null,
            "_model_module_version": "1.2.0",
            "_view_count": null,
            "flex_flow": null,
            "width": null,
            "min_width": null,
            "border": null,
            "align_items": null,
            "bottom": null,
            "_model_module": "@jupyter-widgets/base",
            "top": null,
            "grid_column": null,
            "overflow_y": null,
            "overflow_x": null,
            "grid_auto_flow": null,
            "grid_area": null,
            "grid_template_columns": null,
            "flex": null,
            "_model_name": "LayoutModel",
            "justify_items": null,
            "grid_row": null,
            "max_height": null,
            "align_content": null,
            "visibility": null,
            "align_self": null,
            "height": null,
            "min_height": null,
            "padding": null,
            "grid_auto_rows": null,
            "grid_gap": null,
            "max_width": null,
            "order": null,
            "_view_module_version": "1.2.0",
            "grid_template_areas": null,
            "object_position": null,
            "object_fit": null,
            "grid_auto_columns": null,
            "margin": null,
            "display": null,
            "left": null
          }
        },
        "b003955e05474979b0d53d6925bbe0e3": {
          "model_module": "@jupyter-widgets/controls",
          "model_name": "HBoxModel",
          "state": {
            "_view_name": "HBoxView",
            "_dom_classes": [],
            "_model_name": "HBoxModel",
            "_view_module": "@jupyter-widgets/controls",
            "_model_module_version": "1.5.0",
            "_view_count": null,
            "_view_module_version": "1.5.0",
            "box_style": "",
            "layout": "IPY_MODEL_e6022c8ae556494796f0b7a25d20a555",
            "_model_module": "@jupyter-widgets/controls",
            "children": [
              "IPY_MODEL_39ed0ab79d4e4e5ca161e42cb14ddaf0",
              "IPY_MODEL_7d36dcf61b2042eca5300374ee5bdf68"
            ]
          }
        },
        "e6022c8ae556494796f0b7a25d20a555": {
          "model_module": "@jupyter-widgets/base",
          "model_name": "LayoutModel",
          "state": {
            "_view_name": "LayoutView",
            "grid_template_rows": null,
            "right": null,
            "justify_content": null,
            "_view_module": "@jupyter-widgets/base",
            "overflow": null,
            "_model_module_version": "1.2.0",
            "_view_count": null,
            "flex_flow": null,
            "width": null,
            "min_width": null,
            "border": null,
            "align_items": null,
            "bottom": null,
            "_model_module": "@jupyter-widgets/base",
            "top": null,
            "grid_column": null,
            "overflow_y": null,
            "overflow_x": null,
            "grid_auto_flow": null,
            "grid_area": null,
            "grid_template_columns": null,
            "flex": null,
            "_model_name": "LayoutModel",
            "justify_items": null,
            "grid_row": null,
            "max_height": null,
            "align_content": null,
            "visibility": null,
            "align_self": null,
            "height": null,
            "min_height": null,
            "padding": null,
            "grid_auto_rows": null,
            "grid_gap": null,
            "max_width": null,
            "order": null,
            "_view_module_version": "1.2.0",
            "grid_template_areas": null,
            "object_position": null,
            "object_fit": null,
            "grid_auto_columns": null,
            "margin": null,
            "display": null,
            "left": null
          }
        },
        "39ed0ab79d4e4e5ca161e42cb14ddaf0": {
          "model_module": "@jupyter-widgets/controls",
          "model_name": "FloatProgressModel",
          "state": {
            "_view_name": "ProgressView",
            "style": "IPY_MODEL_941edf6d13e548ad8dc602d78615f62a",
            "_dom_classes": [],
            "description": "Iteration: 100%",
            "_model_name": "FloatProgressModel",
            "bar_style": "success",
            "max": 118,
            "_view_module": "@jupyter-widgets/controls",
            "_model_module_version": "1.5.0",
            "value": 118,
            "_view_count": null,
            "_view_module_version": "1.5.0",
            "orientation": "horizontal",
            "min": 0,
            "description_tooltip": null,
            "_model_module": "@jupyter-widgets/controls",
            "layout": "IPY_MODEL_e3bb2238d93645fdab8cc9185449190f"
          }
        },
        "7d36dcf61b2042eca5300374ee5bdf68": {
          "model_module": "@jupyter-widgets/controls",
          "model_name": "HTMLModel",
          "state": {
            "_view_name": "HTMLView",
            "style": "IPY_MODEL_81aa45f00a8946d4a25bfb898a3e4afe",
            "_dom_classes": [],
            "description": "",
            "_model_name": "HTMLModel",
            "placeholder": "​",
            "_view_module": "@jupyter-widgets/controls",
            "_model_module_version": "1.5.0",
            "value": " 118/118 [1:25:48&lt;00:00, 43.63s/it]",
            "_view_count": null,
            "_view_module_version": "1.5.0",
            "description_tooltip": null,
            "_model_module": "@jupyter-widgets/controls",
            "layout": "IPY_MODEL_4bea943fc2de4f05bb3d10fb4db8913c"
          }
        },
        "941edf6d13e548ad8dc602d78615f62a": {
          "model_module": "@jupyter-widgets/controls",
          "model_name": "ProgressStyleModel",
          "state": {
            "_view_name": "StyleView",
            "_model_name": "ProgressStyleModel",
            "description_width": "initial",
            "_view_module": "@jupyter-widgets/base",
            "_model_module_version": "1.5.0",
            "_view_count": null,
            "_view_module_version": "1.2.0",
            "bar_color": null,
            "_model_module": "@jupyter-widgets/controls"
          }
        },
        "e3bb2238d93645fdab8cc9185449190f": {
          "model_module": "@jupyter-widgets/base",
          "model_name": "LayoutModel",
          "state": {
            "_view_name": "LayoutView",
            "grid_template_rows": null,
            "right": null,
            "justify_content": null,
            "_view_module": "@jupyter-widgets/base",
            "overflow": null,
            "_model_module_version": "1.2.0",
            "_view_count": null,
            "flex_flow": null,
            "width": null,
            "min_width": null,
            "border": null,
            "align_items": null,
            "bottom": null,
            "_model_module": "@jupyter-widgets/base",
            "top": null,
            "grid_column": null,
            "overflow_y": null,
            "overflow_x": null,
            "grid_auto_flow": null,
            "grid_area": null,
            "grid_template_columns": null,
            "flex": null,
            "_model_name": "LayoutModel",
            "justify_items": null,
            "grid_row": null,
            "max_height": null,
            "align_content": null,
            "visibility": null,
            "align_self": null,
            "height": null,
            "min_height": null,
            "padding": null,
            "grid_auto_rows": null,
            "grid_gap": null,
            "max_width": null,
            "order": null,
            "_view_module_version": "1.2.0",
            "grid_template_areas": null,
            "object_position": null,
            "object_fit": null,
            "grid_auto_columns": null,
            "margin": null,
            "display": null,
            "left": null
          }
        },
        "81aa45f00a8946d4a25bfb898a3e4afe": {
          "model_module": "@jupyter-widgets/controls",
          "model_name": "DescriptionStyleModel",
          "state": {
            "_view_name": "StyleView",
            "_model_name": "DescriptionStyleModel",
            "description_width": "",
            "_view_module": "@jupyter-widgets/base",
            "_model_module_version": "1.5.0",
            "_view_count": null,
            "_view_module_version": "1.2.0",
            "_model_module": "@jupyter-widgets/controls"
          }
        },
        "4bea943fc2de4f05bb3d10fb4db8913c": {
          "model_module": "@jupyter-widgets/base",
          "model_name": "LayoutModel",
          "state": {
            "_view_name": "LayoutView",
            "grid_template_rows": null,
            "right": null,
            "justify_content": null,
            "_view_module": "@jupyter-widgets/base",
            "overflow": null,
            "_model_module_version": "1.2.0",
            "_view_count": null,
            "flex_flow": null,
            "width": null,
            "min_width": null,
            "border": null,
            "align_items": null,
            "bottom": null,
            "_model_module": "@jupyter-widgets/base",
            "top": null,
            "grid_column": null,
            "overflow_y": null,
            "overflow_x": null,
            "grid_auto_flow": null,
            "grid_area": null,
            "grid_template_columns": null,
            "flex": null,
            "_model_name": "LayoutModel",
            "justify_items": null,
            "grid_row": null,
            "max_height": null,
            "align_content": null,
            "visibility": null,
            "align_self": null,
            "height": null,
            "min_height": null,
            "padding": null,
            "grid_auto_rows": null,
            "grid_gap": null,
            "max_width": null,
            "order": null,
            "_view_module_version": "1.2.0",
            "grid_template_areas": null,
            "object_position": null,
            "object_fit": null,
            "grid_auto_columns": null,
            "margin": null,
            "display": null,
            "left": null
          }
        },
        "11bbfd2ff87c453fa711fbc09c4c7091": {
          "model_module": "@jupyter-widgets/controls",
          "model_name": "HBoxModel",
          "state": {
            "_view_name": "HBoxView",
            "_dom_classes": [],
            "_model_name": "HBoxModel",
            "_view_module": "@jupyter-widgets/controls",
            "_model_module_version": "1.5.0",
            "_view_count": null,
            "_view_module_version": "1.5.0",
            "box_style": "",
            "layout": "IPY_MODEL_eb447794c33644cbbf56bb598865dd2b",
            "_model_module": "@jupyter-widgets/controls",
            "children": [
              "IPY_MODEL_8c34d735b6794aada092132eeb1dfe65",
              "IPY_MODEL_776c6495e37c46a3a8ee2b9226055712"
            ]
          }
        },
        "eb447794c33644cbbf56bb598865dd2b": {
          "model_module": "@jupyter-widgets/base",
          "model_name": "LayoutModel",
          "state": {
            "_view_name": "LayoutView",
            "grid_template_rows": null,
            "right": null,
            "justify_content": null,
            "_view_module": "@jupyter-widgets/base",
            "overflow": null,
            "_model_module_version": "1.2.0",
            "_view_count": null,
            "flex_flow": null,
            "width": null,
            "min_width": null,
            "border": null,
            "align_items": null,
            "bottom": null,
            "_model_module": "@jupyter-widgets/base",
            "top": null,
            "grid_column": null,
            "overflow_y": null,
            "overflow_x": null,
            "grid_auto_flow": null,
            "grid_area": null,
            "grid_template_columns": null,
            "flex": null,
            "_model_name": "LayoutModel",
            "justify_items": null,
            "grid_row": null,
            "max_height": null,
            "align_content": null,
            "visibility": null,
            "align_self": null,
            "height": null,
            "min_height": null,
            "padding": null,
            "grid_auto_rows": null,
            "grid_gap": null,
            "max_width": null,
            "order": null,
            "_view_module_version": "1.2.0",
            "grid_template_areas": null,
            "object_position": null,
            "object_fit": null,
            "grid_auto_columns": null,
            "margin": null,
            "display": null,
            "left": null
          }
        },
        "8c34d735b6794aada092132eeb1dfe65": {
          "model_module": "@jupyter-widgets/controls",
          "model_name": "FloatProgressModel",
          "state": {
            "_view_name": "ProgressView",
            "style": "IPY_MODEL_35f652003d0f48e19ce36af91d210950",
            "_dom_classes": [],
            "description": "100%",
            "_model_name": "FloatProgressModel",
            "bar_style": "success",
            "max": 414,
            "_view_module": "@jupyter-widgets/controls",
            "_model_module_version": "1.5.0",
            "value": 414,
            "_view_count": null,
            "_view_module_version": "1.5.0",
            "orientation": "horizontal",
            "min": 0,
            "description_tooltip": null,
            "_model_module": "@jupyter-widgets/controls",
            "layout": "IPY_MODEL_224e2607010c4bfb9562061111a8c227"
          }
        },
        "776c6495e37c46a3a8ee2b9226055712": {
          "model_module": "@jupyter-widgets/controls",
          "model_name": "HTMLModel",
          "state": {
            "_view_name": "HTMLView",
            "style": "IPY_MODEL_b500ea5b1d3a4e98854a87dd0e5ae7bd",
            "_dom_classes": [],
            "description": "",
            "_model_name": "HTMLModel",
            "placeholder": "​",
            "_view_module": "@jupyter-widgets/controls",
            "_model_module_version": "1.5.0",
            "value": " 414/414 [20:10&lt;00:00,  2.92s/it]",
            "_view_count": null,
            "_view_module_version": "1.5.0",
            "description_tooltip": null,
            "_model_module": "@jupyter-widgets/controls",
            "layout": "IPY_MODEL_f25cf21306bf4acfb0aa071976921d96"
          }
        },
        "35f652003d0f48e19ce36af91d210950": {
          "model_module": "@jupyter-widgets/controls",
          "model_name": "ProgressStyleModel",
          "state": {
            "_view_name": "StyleView",
            "_model_name": "ProgressStyleModel",
            "description_width": "initial",
            "_view_module": "@jupyter-widgets/base",
            "_model_module_version": "1.5.0",
            "_view_count": null,
            "_view_module_version": "1.2.0",
            "bar_color": null,
            "_model_module": "@jupyter-widgets/controls"
          }
        },
        "224e2607010c4bfb9562061111a8c227": {
          "model_module": "@jupyter-widgets/base",
          "model_name": "LayoutModel",
          "state": {
            "_view_name": "LayoutView",
            "grid_template_rows": null,
            "right": null,
            "justify_content": null,
            "_view_module": "@jupyter-widgets/base",
            "overflow": null,
            "_model_module_version": "1.2.0",
            "_view_count": null,
            "flex_flow": null,
            "width": null,
            "min_width": null,
            "border": null,
            "align_items": null,
            "bottom": null,
            "_model_module": "@jupyter-widgets/base",
            "top": null,
            "grid_column": null,
            "overflow_y": null,
            "overflow_x": null,
            "grid_auto_flow": null,
            "grid_area": null,
            "grid_template_columns": null,
            "flex": null,
            "_model_name": "LayoutModel",
            "justify_items": null,
            "grid_row": null,
            "max_height": null,
            "align_content": null,
            "visibility": null,
            "align_self": null,
            "height": null,
            "min_height": null,
            "padding": null,
            "grid_auto_rows": null,
            "grid_gap": null,
            "max_width": null,
            "order": null,
            "_view_module_version": "1.2.0",
            "grid_template_areas": null,
            "object_position": null,
            "object_fit": null,
            "grid_auto_columns": null,
            "margin": null,
            "display": null,
            "left": null
          }
        },
        "b500ea5b1d3a4e98854a87dd0e5ae7bd": {
          "model_module": "@jupyter-widgets/controls",
          "model_name": "DescriptionStyleModel",
          "state": {
            "_view_name": "StyleView",
            "_model_name": "DescriptionStyleModel",
            "description_width": "",
            "_view_module": "@jupyter-widgets/base",
            "_model_module_version": "1.5.0",
            "_view_count": null,
            "_view_module_version": "1.2.0",
            "_model_module": "@jupyter-widgets/controls"
          }
        },
        "f25cf21306bf4acfb0aa071976921d96": {
          "model_module": "@jupyter-widgets/base",
          "model_name": "LayoutModel",
          "state": {
            "_view_name": "LayoutView",
            "grid_template_rows": null,
            "right": null,
            "justify_content": null,
            "_view_module": "@jupyter-widgets/base",
            "overflow": null,
            "_model_module_version": "1.2.0",
            "_view_count": null,
            "flex_flow": null,
            "width": null,
            "min_width": null,
            "border": null,
            "align_items": null,
            "bottom": null,
            "_model_module": "@jupyter-widgets/base",
            "top": null,
            "grid_column": null,
            "overflow_y": null,
            "overflow_x": null,
            "grid_auto_flow": null,
            "grid_area": null,
            "grid_template_columns": null,
            "flex": null,
            "_model_name": "LayoutModel",
            "justify_items": null,
            "grid_row": null,
            "max_height": null,
            "align_content": null,
            "visibility": null,
            "align_self": null,
            "height": null,
            "min_height": null,
            "padding": null,
            "grid_auto_rows": null,
            "grid_gap": null,
            "max_width": null,
            "order": null,
            "_view_module_version": "1.2.0",
            "grid_template_areas": null,
            "object_position": null,
            "object_fit": null,
            "grid_auto_columns": null,
            "margin": null,
            "display": null,
            "left": null
          }
        }
      }
    }
  },
  "cells": [
    {
      "cell_type": "markdown",
      "metadata": {
        "id": "ACa-_XMTFPzE",
        "colab_type": "text"
      },
      "source": [
        "# **cdQA on Coronavirus articles on Russian language**"
      ]
    },
    {
      "cell_type": "code",
      "metadata": {
        "id": "e7S_9yT8FC07",
        "colab_type": "code",
        "colab": {}
      },
      "source": [
        "!pip install cdqa"
      ],
      "execution_count": 0,
      "outputs": []
    },
    {
      "cell_type": "code",
      "metadata": {
        "id": "R-GHF6YcTv9m",
        "colab_type": "code",
        "outputId": "9d754594-ed46-4b48-c50e-c1bd57b304ca",
        "colab": {
          "base_uri": "https://localhost:8080/",
          "height": 121
        }
      },
      "source": [
        "from google.colab import drive\n",
        "drive.mount('/content/drive/')"
      ],
      "execution_count": 1,
      "outputs": [
        {
          "output_type": "stream",
          "text": [
            "Go to this URL in a browser: https://accounts.google.com/o/oauth2/auth?client_id=947318989803-6bn6qk8qdgf4n4g3pfee6491hc0brc4i.apps.googleusercontent.com&redirect_uri=urn%3aietf%3awg%3aoauth%3a2.0%3aoob&response_type=code&scope=email%20https%3a%2f%2fwww.googleapis.com%2fauth%2fdocs.test%20https%3a%2f%2fwww.googleapis.com%2fauth%2fdrive%20https%3a%2f%2fwww.googleapis.com%2fauth%2fdrive.photos.readonly%20https%3a%2f%2fwww.googleapis.com%2fauth%2fpeopleapi.readonly\n",
            "\n",
            "Enter your authorization code:\n",
            "··········\n",
            "Mounted at /content/drive/\n"
          ],
          "name": "stdout"
        }
      ]
    },
    {
      "cell_type": "code",
      "metadata": {
        "id": "4rz8udxeXQCp",
        "colab_type": "code",
        "colab": {
          "base_uri": "https://localhost:8080/",
          "height": 70
        },
        "outputId": "8fbe36af-afb4-4f8f-f99b-f3b1c05b9d45"
      },
      "source": [
        "import numpy as np\n",
        "import pandas as pd\n",
        "import re\n",
        "import string\n",
        "import os\n",
        "import csv\n",
        "\n",
        "from cdqa.utils.filters import filter_paragraphs\n",
        "from cdqa.utils.converters import df2squad\n",
        "from cdqa.pipeline import QAPipeline\n",
        "import torch\n",
        "import joblib\n",
        "from cdqa.reader import BertProcessor, BertQA\n",
        "from cdqa.utils.download import download_model, download_bnpp_data\n",
        "from cdqa.utils.evaluation import evaluate_pipeline, evaluate_reader"
      ],
      "execution_count": 2,
      "outputs": [
        {
          "output_type": "stream",
          "text": [
            "/usr/local/lib/python3.6/dist-packages/cdqa/reader/bertqa_sklearn.py:35: TqdmExperimentalWarning: Using `tqdm.autonotebook.tqdm` in notebook mode. Use `tqdm.tqdm` instead to force console mode (e.g. in jupyter console)\n",
            "  from tqdm.autonotebook import tqdm, trange\n"
          ],
          "name": "stderr"
        }
      ]
    },
    {
      "cell_type": "markdown",
      "metadata": {
        "id": "c-K45OCE6HHH",
        "colab_type": "text"
      },
      "source": [
        "## Preparing my data for QA-annotator"
      ]
    },
    {
      "cell_type": "markdown",
      "metadata": {
        "id": "P5u1ukfJ6S0t",
        "colab_type": "text"
      },
      "source": [
        "Для каждой статьи получаем её заголовок и делим текст на абзацы.\n",
        "Всего 18 небольших файлов (статей)."
      ]
    },
    {
      "cell_type": "code",
      "metadata": {
        "id": "MHBruG9h0Huy",
        "colab_type": "code",
        "colab": {}
      },
      "source": [
        "directory = 'drive/My Drive/qa/'"
      ],
      "execution_count": 0,
      "outputs": []
    },
    {
      "cell_type": "code",
      "metadata": {
        "id": "vu4gf6bzV0aS",
        "colab_type": "code",
        "colab": {}
      },
      "source": [
        "titles = []\n",
        "paragraphs = []\n",
        "\n",
        "file_names = [i for i in range(1, 19)]\n",
        "files = [ 'sample' + str(i) + '.txt' for i in file_names]\n",
        "\n",
        "for file in files:\n",
        "  f = open(directory + 'data/' + file, 'r')\n",
        "  article = []\n",
        "  for line in f:\n",
        "    article.append(line)\n",
        "  titles.append(article[0][:-1])\n",
        "  text = ''\n",
        "  for t in article[3::]:\n",
        "    text+=t\n",
        "  texts = text.split('\\n\\n')\n",
        "  texts = [s.strip() for s in texts if s!='']\n",
        "  paragraphs.append(texts)"
      ],
      "execution_count": 0,
      "outputs": []
    },
    {
      "cell_type": "code",
      "metadata": {
        "id": "HyxLqerMY9zk",
        "colab_type": "code",
        "outputId": "3adef550-bae2-45fc-db25-3f8a9012312e",
        "colab": {
          "base_uri": "https://localhost:8080/",
          "height": 34
        }
      },
      "source": [
        "len(titles), len(paragraphs)"
      ],
      "execution_count": 0,
      "outputs": [
        {
          "output_type": "execute_result",
          "data": {
            "text/plain": [
              "(18, 18)"
            ]
          },
          "metadata": {
            "tags": []
          },
          "execution_count": 13
        }
      ]
    },
    {
      "cell_type": "code",
      "metadata": {
        "id": "MbQ3XN-gVgJp",
        "colab_type": "code",
        "outputId": "84fd165d-de1d-4261-b4a1-d0d340b16754",
        "colab": {
          "base_uri": "https://localhost:8080/",
          "height": 212
        }
      },
      "source": [
        "df = pd.DataFrame({'title': titles, 'paragraphs': paragraphs})\n",
        "print(\"Len of table: \", len(df))\n",
        "df.head()"
      ],
      "execution_count": 11,
      "outputs": [
        {
          "output_type": "stream",
          "text": [
            "Len of table:  18\n"
          ],
          "name": "stdout"
        },
        {
          "output_type": "execute_result",
          "data": {
            "text/html": [
              "<div>\n",
              "<style scoped>\n",
              "    .dataframe tbody tr th:only-of-type {\n",
              "        vertical-align: middle;\n",
              "    }\n",
              "\n",
              "    .dataframe tbody tr th {\n",
              "        vertical-align: top;\n",
              "    }\n",
              "\n",
              "    .dataframe thead th {\n",
              "        text-align: right;\n",
              "    }\n",
              "</style>\n",
              "<table border=\"1\" class=\"dataframe\">\n",
              "  <thead>\n",
              "    <tr style=\"text-align: right;\">\n",
              "      <th></th>\n",
              "      <th>title</th>\n",
              "      <th>paragraphs</th>\n",
              "    </tr>\n",
              "  </thead>\n",
              "  <tbody>\n",
              "    <tr>\n",
              "      <th>0</th>\n",
              "      <td>Часто задаваемые вопросы.</td>\n",
              "      <td>[Коронавирусы – обширное семейство вирусов, ко...</td>\n",
              "    </tr>\n",
              "    <tr>\n",
              "      <th>1</th>\n",
              "      <td>Как правильно носить маску?</td>\n",
              "      <td>[Маски могут иметь разную конструкцию. Они мог...</td>\n",
              "    </tr>\n",
              "    <tr>\n",
              "      <th>2</th>\n",
              "      <td>Что предпринять?</td>\n",
              "      <td>[Соблюдайте правила гигиены. Чтобы защитить се...</td>\n",
              "    </tr>\n",
              "    <tr>\n",
              "      <th>3</th>\n",
              "      <td>Мифы и ложные представления.</td>\n",
              "      <td>[Являются ли антибиотики эффективным средством...</td>\n",
              "    </tr>\n",
              "    <tr>\n",
              "      <th>4</th>\n",
              "      <td>Что означает находиться дома на карантине?</td>\n",
              "      <td>[Главное условие – не выходить из дома все 14 ...</td>\n",
              "    </tr>\n",
              "  </tbody>\n",
              "</table>\n",
              "</div>"
            ],
            "text/plain": [
              "                                        title                                         paragraphs\n",
              "0                   Часто задаваемые вопросы.  [Коронавирусы – обширное семейство вирусов, ко...\n",
              "1                 Как правильно носить маску?  [Маски могут иметь разную конструкцию. Они мог...\n",
              "2                            Что предпринять?  [Соблюдайте правила гигиены. Чтобы защитить се...\n",
              "3                Мифы и ложные представления.  [Являются ли антибиотики эффективным средством...\n",
              "4  Что означает находиться дома на карантине?  [Главное условие – не выходить из дома все 14 ..."
            ]
          },
          "metadata": {
            "tags": []
          },
          "execution_count": 11
        }
      ]
    },
    {
      "cell_type": "code",
      "metadata": {
        "id": "R401PxYs6zvY",
        "colab_type": "code",
        "outputId": "bc24e704-0831-4f5e-e26a-a01c64233d82",
        "colab": {
          "base_uri": "https://localhost:8080/",
          "height": 205
        }
      },
      "source": [
        "df['paragraphs'][0]"
      ],
      "execution_count": 0,
      "outputs": [
        {
          "output_type": "execute_result",
          "data": {
            "text/plain": [
              "['Коронавирусы – обширное семейство вирусов, которые поражают людей и животных. Известно, что некоторые из них способны вызывать у человека респираторные инфекции в диапазоне от обычной простуды до более серьезных состояний. Последний из недавно открытых коронавирусов вызывает заболевание COVID‑19. До вспышки инфекции в китайской провинции Ухань в декабре 2019 года о новом вирусе и заболевании ничего не было известно. Он передается главным образом воздушно-капельным путем в результате вдыхания капель, выделяемых из дыхательных путей больного, например при кашле или чихании, а также капель слюны или выделений из носа. Также он может распространяться, когда больной касается любой загрязненной поверхности, например дверной ручки. В этом случае заражение происходит при касании рта, носа или глаз грязными руками.',\n",
              " 'Самое важное, что можно сделать, чтобы защитить себя, – это соблюдать правила личной гигиены и сократить посещения общественных и людных мест. Держите руки в чистоте, часто мойте их водой с мылом или используйте дезинфицирующее средство. Старайтесь не касаться рта, носа или глаз немытыми руками (обычно такие прикосновения неосознанно совершаются нами в среднем 15 раз в час). На работе и дома регулярно очищайте и дезинфицируйте поверхности и устройства, к которым вы прикасаетесь (клавиатура компьютера или ноутбука, экран смартфона, пульты, выключатели и дверные ручки). Носите с собой одноразовые салфетки и всегда прикрывайте нос и рот, когда вы кашляете или чихаете. Не ешьте еду (орешки, чипсы, печенье и другие снеки) из общих упаковок или посуды, если другие люди погружали в них свои пальцы. Объясните детям, как распространяются микробы и почему важна хорошая гигиена рук и лица. Расскажите детям о профилактике коронавируса. Часто проветривайте помещения. По возможности, соблюдайте дистанцию не менее 1 метра при общении с коллегами, друзьями, родными и близкими. Если вы обнаружили симптомы, схожие с теми, которые вызывает коронавирус, оставайтесь дома и вызывайте врача.',\n",
              " 'Существует ли вакцина от коронавируса? Нет. Первичные испытания вакцины будут завершены к 22 июня, а затем начнутся клинические. В целом в России разработаны семь прототипов вакцины от коронавируса. Препараты собраны генно-инженерным способом из рекомбинантных белков. Сейчас специалисты определяют самые эффективные из них. Сама вакцина, по мнению экспертов, станет доступной примерно через 11 месяцев.',\n",
              " 'Как проводится диагностика заболевания? Сбор и оценка жалоб, анамнеза заболевания, эпидемиологического анамнеза, медицинский осмотр. Далее — по назначению врача: Лабораторная диагностика специфическая (выявление РНК SARS-CoV-2 методом ПЦР); Лабораторная диагностика общая (клинический анализ крови, биохимический анализ крови и др.); Инструментальная диагностика. Материалом для исследования являются: основной — мазок из носа и/или ротоглотки; дополнительные — промывные воды бронхов, (эндо)трахеальный, назофарингеальный аспират, мокрота, биопсийный или аутопсийный материал легких, цельная кровь, сыворотка крови, моча, фекалии.',\n",
              " 'Кто в группе риска? Заразиться вирусом могут люди всех возрастов. Степень тяжести заболевания зависит от индивидуальных факторов. Однако людям старше 65 лет, а также гражданам с ослабленной иммунной системой и хроническими заболеваниями рекомендуется быть наиболее осторожными и внимательными к своему здоровью. Детям и внукам пожилых людей нужно позаботиться о старшем поколении, завезти продукты, лекарства, соблюдая все предосторожности, не контактируя с ними.',\n",
              " 'В чем особенности карантина? Все граждане, прибывшие в РФ из стран с неблагополучной эпидситуацией, должны быть изолированы по месту пребывания на срок 14 дней. За всеми прибывшими устанавливается медицинское наблюдение. Число визитов врача определяется в каждом случае индивидуально в течение всего периода карантина. При появлении симптомов ОРВИ человек должен незамедлительно обратиться за медицинской помощью без посещения медицинских организаций. Медицинская помощь всем пациентам и лицам с подозрением на COVID-19 оказывается на бесплатной основе. Действующим законодательством не предусмотрена компенсация разницы между оплатой больничного и реальной зарплатой, если человек находился на карантине.',\n",
              " 'В чем разница между коронавирусом и вирусом гриппа? Коронавирус и вирус гриппа похожи основными симптомами, способами передачи и профилактики, но имеют и принципиальные различия. Например, инкубационный период: у гриппа он составляет 3 дня, а у COVID-19 – 5-6 дней. Также коронавирусная инфекция вызывает больше тяжелых и критических случаев, что, в свою очередь, приводит к более высоким показателям смертности, чем у сезонного гриппа.',\n",
              " '7 шагов по профилактике коронавирусной инфекции. Воздержитесь от посещения общественных мест: торговых центров, спортивных и зрелищных мероприятий, транспорта. Не касайтесь грязными руками глаз, лица и рта. Избегайте близких контактов и пребывания в одном помещении с людьми, имеющими видимые признаки ОРВИ (кашель, чихание, выделения из носа). Тщательно мойте руки с мылом и водой после возвращения с улицы и контактов с людьми, дезинфицируйте гаджеты и рабочие поверхности. Дезинфицируйте гаджеты, оргтехнику и поверхности, к которым прикасаетесь. Ограничьте по возможности при приветствии тесные объятия и рукопожатия. Пользуйтесь только индивидуальными предметами личной гигиены (полотенце, зубная щетка).',\n",
              " 'Как передается коронавирус? Воздушно-капельным путем (при кашле или чихании), контактным путем (поручни в транспорте, дверные ручки и другие загрязненные поверхности и предметы). Как и другие респираторные вирусы, коронавирус распространяется через капли, которые образуются, когда инфицированный человек кашляет или чихает. Кроме того, он может распространяться, когда инфицированный человек касается любой загрязненной поверхности, например, дверной ручки. Люди заражаются, когда они касаются загрязненными руками рта, носа или глаз.',\n",
              " 'Симптомы коронавируса COVID—19. В подавляющем большинстве случаев эти симптомы связаны не с коронавирусом, а с обычной ОРВИ. Основные симптомы коронавируса: высокая температура тела, кашель (сухой или с небольшим количеством мокроты), одышка, боль в мышцах, утомляемость. Редкие симптомы коронавируса: головная боль, заложенность грудной клетки, кровохарканье, диарея, тошнота, рвота. Симптомы могут проявиться в течение 14 дней после контакта с инфекционным больным. Симптомы во многом сходны со многими респираторными заболеваниями, часто имитируют обычную простуду, могут походить на грипп.']"
            ]
          },
          "metadata": {
            "tags": []
          },
          "execution_count": 7
        }
      ]
    },
    {
      "cell_type": "code",
      "metadata": {
        "id": "NO6QjI3CPtmK",
        "colab_type": "code",
        "outputId": "e1dd7ca0-4b33-4ffa-8a3b-2467ab2553f0",
        "colab": {
          "base_uri": "https://localhost:8080/",
          "height": 195
        }
      },
      "source": [
        "df = filter_paragraphs(df)\n",
        "df.head()"
      ],
      "execution_count": 12,
      "outputs": [
        {
          "output_type": "execute_result",
          "data": {
            "text/html": [
              "<div>\n",
              "<style scoped>\n",
              "    .dataframe tbody tr th:only-of-type {\n",
              "        vertical-align: middle;\n",
              "    }\n",
              "\n",
              "    .dataframe tbody tr th {\n",
              "        vertical-align: top;\n",
              "    }\n",
              "\n",
              "    .dataframe thead th {\n",
              "        text-align: right;\n",
              "    }\n",
              "</style>\n",
              "<table border=\"1\" class=\"dataframe\">\n",
              "  <thead>\n",
              "    <tr style=\"text-align: right;\">\n",
              "      <th></th>\n",
              "      <th>title</th>\n",
              "      <th>paragraphs</th>\n",
              "    </tr>\n",
              "  </thead>\n",
              "  <tbody>\n",
              "    <tr>\n",
              "      <th>0</th>\n",
              "      <td>Часто задаваемые вопросы.</td>\n",
              "      <td>[Коронавирусы – обширное семейство вирусов, ко...</td>\n",
              "    </tr>\n",
              "    <tr>\n",
              "      <th>1</th>\n",
              "      <td>Как правильно носить маску?</td>\n",
              "      <td>[Маски могут иметь разную конструкцию. Они мог...</td>\n",
              "    </tr>\n",
              "    <tr>\n",
              "      <th>2</th>\n",
              "      <td>Что предпринять?</td>\n",
              "      <td>[Соблюдайте правила гигиены. Чтобы защитить се...</td>\n",
              "    </tr>\n",
              "    <tr>\n",
              "      <th>3</th>\n",
              "      <td>Мифы и ложные представления.</td>\n",
              "      <td>[Являются ли антибиотики эффективным средством...</td>\n",
              "    </tr>\n",
              "    <tr>\n",
              "      <th>4</th>\n",
              "      <td>Общая информация о короновирусе.</td>\n",
              "      <td>[Симптомы и признаки коронавируса у человека. ...</td>\n",
              "    </tr>\n",
              "  </tbody>\n",
              "</table>\n",
              "</div>"
            ],
            "text/plain": [
              "                              title                                         paragraphs\n",
              "0         Часто задаваемые вопросы.  [Коронавирусы – обширное семейство вирусов, ко...\n",
              "1       Как правильно носить маску?  [Маски могут иметь разную конструкцию. Они мог...\n",
              "2                  Что предпринять?  [Соблюдайте правила гигиены. Чтобы защитить се...\n",
              "3      Мифы и ложные представления.  [Являются ли антибиотики эффективным средством...\n",
              "4  Общая информация о короновирусе.  [Симптомы и признаки коронавируса у человека. ..."
            ]
          },
          "metadata": {
            "tags": []
          },
          "execution_count": 12
        }
      ]
    },
    {
      "cell_type": "code",
      "metadata": {
        "id": "b89HagkfjH32",
        "colab_type": "code",
        "outputId": "cd476c3b-2b01-47be-a334-e6dc1dcdf610",
        "colab": {
          "base_uri": "https://localhost:8080/",
          "height": 34
        }
      },
      "source": [
        "len(df)"
      ],
      "execution_count": 0,
      "outputs": [
        {
          "output_type": "execute_result",
          "data": {
            "text/plain": [
              "16"
            ]
          },
          "metadata": {
            "tags": []
          },
          "execution_count": 16
        }
      ]
    },
    {
      "cell_type": "markdown",
      "metadata": {
        "id": "QW7j9wKgIWox",
        "colab_type": "text"
      },
      "source": [
        "Сохраним наш dataframe в csv формате для будующей QA модели."
      ]
    },
    {
      "cell_type": "code",
      "metadata": {
        "id": "6szKUEoP7F1t",
        "colab_type": "code",
        "colab": {}
      },
      "source": [
        "df.to_csv(directory+'data/dataframe.csv', index = False)"
      ],
      "execution_count": 0,
      "outputs": []
    },
    {
      "cell_type": "markdown",
      "metadata": {
        "id": "qPgiOAr4I2yu",
        "colab_type": "text"
      },
      "source": [
        "Сохраним наши данные в формате датасета SQuAD v1.1 в json файле."
      ]
    },
    {
      "cell_type": "code",
      "metadata": {
        "id": "npeNynL4FoGV",
        "colab_type": "code",
        "outputId": "c45871f0-bd68-4c65-c137-ae0f05f13ebe",
        "colab": {
          "base_uri": "https://localhost:8080/",
          "height": 34
        }
      },
      "source": [
        "json_data = df2squad(df=df, squad_version='v1.1', output_dir=directory+'data/', filename='dataset-coronavirus')"
      ],
      "execution_count": 0,
      "outputs": [
        {
          "output_type": "stream",
          "text": [
            "16it [00:00, 1946.09it/s]\n"
          ],
          "name": "stderr"
        }
      ]
    },
    {
      "cell_type": "markdown",
      "metadata": {
        "id": "M2fHOwUuKtJp",
        "colab_type": "text"
      },
      "source": [
        "## Training the Reader"
      ]
    },
    {
      "cell_type": "markdown",
      "metadata": {
        "id": "yGfKprgGJaid",
        "colab_type": "text"
      },
      "source": [
        "Создадим reader на основе мультиязычного Bert и данных на русском языке."
      ]
    },
    {
      "cell_type": "code",
      "metadata": {
        "id": "_IKIz6A8TvOg",
        "colab_type": "code",
        "outputId": "1abc7a52-6175-4f2b-c9fa-efa281a29fcf",
        "colab": {
          "base_uri": "https://localhost:8080/",
          "height": 134
        }
      },
      "source": [
        "train_processor = BertProcessor(bert_model = 'bert-base-multilingual-uncased', do_lower_case=True, is_training=True)\n",
        "train_examples, train_features = train_processor.fit_transform(X=directory + 'data/sber_squad_clean-v1.1/train-v1.1.json')"
      ],
      "execution_count": 0,
      "outputs": [
        {
          "output_type": "stream",
          "text": [
            "Could not find answer: '' vs. 'Машина времени'\n",
            "Could not find answer: '' vs. 'Старая крепость'\n",
            "Could not find answer: '' vs. 'Everybody'\n",
            "Could not find answer: '' vs. 'Георгики'\n",
            "Could not find answer: '' vs. 'История Рима'\n",
            "Could not find answer: '' vs. 'Бхагавадгита'\n",
            "Could not find answer: '' vs. 'Машина времени'\n"
          ],
          "name": "stderr"
        }
      ]
    },
    {
      "cell_type": "code",
      "metadata": {
        "id": "uPYj9KKxe96V",
        "colab_type": "code",
        "outputId": "42e8dcc3-a7b7-441e-ac4e-15d1901efcb5",
        "colab": {
          "base_uri": "https://localhost:8080/",
          "height": 34
        }
      },
      "source": [
        " len(train_examples), len(train_features)"
      ],
      "execution_count": 0,
      "outputs": [
        {
          "output_type": "execute_result",
          "data": {
            "text/plain": [
              "(45321, 47716)"
            ]
          },
          "metadata": {
            "tags": []
          },
          "execution_count": 5
        }
      ]
    },
    {
      "cell_type": "code",
      "metadata": {
        "id": "0RkygfeiT2z2",
        "colab_type": "code",
        "outputId": "8ed83d7c-8e12-4ec3-9b83-6b8b2a8c28eb",
        "colab": {
          "base_uri": "https://localhost:8080/",
          "height": 298,
          "referenced_widgets": [
            "f007f3e9bdc549cbb59d2c9b9c80d7b5",
            "6c5ce2f08ffc48b68bcfd98e15237175",
            "a4b449d9044d4aa68dd3a3c5fa15eb6c",
            "2abd7ababa614d97940edd9a9f4f530f",
            "2393c5d9cbda41c9bcc081580f896dde",
            "90dab49fb874436ebccbf982a948513f",
            "7720e61a87e1432882214d7ef88fdc53",
            "7acb2b21bf8b4ee2962a34c3e54a9e5b",
            "4d16bcda0f1846f18f4f7ba4b2bafd59",
            "b88490286e8d450fb05d67863e05dd22",
            "2791426d3ca041f6a3c8d3f5c786da45",
            "5541861dc6494ad7a33919a0d1a182f8",
            "879f1f1aecca40a6a974eaaab3b8c77c",
            "5904e242bdf444d7ae13c29c5b490029",
            "bffcb1325b66481c97471e151ede383a",
            "241541c882ea4d029e7f6b781a3af713",
            "d109daf0ebf14be38c8c5ba08a8ecc36",
            "35b5c6a87ee141c6beef6f2896748377",
            "df14d41b8afc48a7a001f29227a72385",
            "95f95b7b1cfe447e869ecdc333f0b14e",
            "139a6019c29545a28f7b6f4f6041e719",
            "fc897f1c1a904956994c536f30d34c5b",
            "cd85c4fce52a48c3ba6be6cfe3674595",
            "7b7eaf520c0f4b7486a35498d55294bc"
          ]
        }
      },
      "source": [
        "ru_reader = BertQA(bert_model = 'bert-base-multilingual-uncased',\n",
        "                   train_batch_size=10,\n",
        "                learning_rate=3e-5,\n",
        "                num_train_epochs=2,\n",
        "                do_lower_case=True,\n",
        "                output_dir=directory + 'models/ru_reader/')\n",
        "\n",
        "ru_reader.fit(X=(train_examples, train_features))"
      ],
      "execution_count": 0,
      "outputs": [
        {
          "output_type": "display_data",
          "data": {
            "application/vnd.jupyter.widget-view+json": {
              "model_id": "f007f3e9bdc549cbb59d2c9b9c80d7b5",
              "version_minor": 0,
              "version_major": 2
            },
            "text/plain": [
              "HBox(children=(FloatProgress(value=0.0, description='Epoch', max=2.0, style=ProgressStyle(description_width='i…"
            ]
          },
          "metadata": {
            "tags": []
          }
        },
        {
          "output_type": "display_data",
          "data": {
            "application/vnd.jupyter.widget-view+json": {
              "model_id": "4d16bcda0f1846f18f4f7ba4b2bafd59",
              "version_minor": 0,
              "version_major": 2
            },
            "text/plain": [
              "HBox(children=(FloatProgress(value=0.0, description='Iteration', max=4772.0, style=ProgressStyle(description_w…"
            ]
          },
          "metadata": {
            "tags": []
          }
        },
        {
          "output_type": "stream",
          "text": [
            "\n"
          ],
          "name": "stdout"
        },
        {
          "output_type": "display_data",
          "data": {
            "application/vnd.jupyter.widget-view+json": {
              "model_id": "d109daf0ebf14be38c8c5ba08a8ecc36",
              "version_minor": 0,
              "version_major": 2
            },
            "text/plain": [
              "HBox(children=(FloatProgress(value=0.0, description='Iteration', max=4772.0, style=ProgressStyle(description_w…"
            ]
          },
          "metadata": {
            "tags": []
          }
        },
        {
          "output_type": "stream",
          "text": [
            "\n",
            "\n"
          ],
          "name": "stdout"
        },
        {
          "output_type": "execute_result",
          "data": {
            "text/plain": [
              "BertQA(adam_epsilon=1e-08, bert_model='bert-base-multilingual-uncased',\n",
              "       do_lower_case=True, fp16=False, gradient_accumulation_steps=1,\n",
              "       learning_rate=3e-05, local_rank=-1, loss_scale=0, max_answer_length=30,\n",
              "       n_best_size=20, no_cuda=False, null_score_diff_threshold=0.0,\n",
              "       num_train_epochs=2, output_dir='drive/My Drive/qa/models/ru_reader/',\n",
              "       predict_batch_size=8, seed=42, server_ip='', server_port='',\n",
              "       train_batch_size=10, verbose_logging=False,\n",
              "       version_2_with_negative=False, warmup_proportion=0.1, warmup_steps=0)"
            ]
          },
          "metadata": {
            "tags": []
          },
          "execution_count": 6
        }
      ]
    },
    {
      "cell_type": "code",
      "metadata": {
        "id": "b10NGKGFoF1T",
        "colab_type": "code",
        "colab": {}
      },
      "source": [
        "ru_reader.model.to('cpu')\n",
        "ru_reader.device = torch.device('cpu')"
      ],
      "execution_count": 0,
      "outputs": []
    },
    {
      "cell_type": "code",
      "metadata": {
        "id": "Zfvgl-Hxn75f",
        "colab_type": "code",
        "outputId": "e3c8fc6b-b187-4c84-a416-352c62bd3ea6",
        "colab": {
          "base_uri": "https://localhost:8080/",
          "height": 34
        }
      },
      "source": [
        "joblib.dump(ru_reader, os.path.join(ru_reader.output_dir, 'mulilingbert_qa.joblib'))"
      ],
      "execution_count": 0,
      "outputs": [
        {
          "output_type": "execute_result",
          "data": {
            "text/plain": [
              "['drive/My Drive/qa/models/ru_reader/mulilingbert_qa.joblib']"
            ]
          },
          "metadata": {
            "tags": []
          },
          "execution_count": 8
        }
      ]
    },
    {
      "cell_type": "markdown",
      "metadata": {
        "id": "nB5cRBFS_Aiw",
        "colab_type": "text"
      },
      "source": [
        "## Fine-tuning the reader"
      ]
    },
    {
      "cell_type": "markdown",
      "metadata": {
        "id": "GLja_P2PJlM5",
        "colab_type": "text"
      },
      "source": [
        "Дообучим наш Reader на наших данных о коронавирусе."
      ]
    },
    {
      "cell_type": "code",
      "metadata": {
        "id": "vEZ4Y6Oq_-v-",
        "colab_type": "code",
        "outputId": "e9fddd63-37a1-4efc-f10c-e7adb233efc1",
        "colab": {
          "base_uri": "https://localhost:8080/",
          "height": 34
        }
      },
      "source": [
        "cdqa_pipeline = QAPipeline(reader='drive/My Drive/qa/models/ru_reader/mulilingbert_qa.joblib')"
      ],
      "execution_count": 4,
      "outputs": [
        {
          "output_type": "stream",
          "text": [
            "100%|██████████| 231508/231508 [00:00<00:00, 920453.50B/s]\n"
          ],
          "name": "stderr"
        }
      ]
    },
    {
      "cell_type": "code",
      "metadata": {
        "id": "UG_dVhICyhM-",
        "colab_type": "code",
        "colab": {
          "base_uri": "https://localhost:8080/",
          "height": 482,
          "referenced_widgets": [
            "6d9ea0d3da104086ad864e0b6760c188",
            "fa691c78c5874af6a3325c256ec7ed43",
            "66554b02d45b46c7abbe145eb0c56556",
            "4e068268b42f44a982a79021bed76d1f",
            "fe4fa51a0f724020b418347c443fab2b",
            "1c0ae50e6f60475bb3dfe15d452cb243",
            "6450647fb0a1443199dcaae50e71669e",
            "3cfe1a43a80041a4aeb60e98e0082639",
            "a41bcc53834344ddb8e67243fd99f42c",
            "604c9163f1614cecbd0e39661978ff2a",
            "bbb935a74c32483894972abed97ea19b",
            "cce6d4ea421846fa8d67c17255f56f0a",
            "647e4528ea634e13b68615049933e1ae",
            "92b9251eae6c492c9d81059b7eecd0a4",
            "ced317b4239345c58aec730382ddbdd3",
            "a897438759a749118ffdf0f0e7d9c29e",
            "b003955e05474979b0d53d6925bbe0e3",
            "e6022c8ae556494796f0b7a25d20a555",
            "39ed0ab79d4e4e5ca161e42cb14ddaf0",
            "7d36dcf61b2042eca5300374ee5bdf68",
            "941edf6d13e548ad8dc602d78615f62a",
            "e3bb2238d93645fdab8cc9185449190f",
            "81aa45f00a8946d4a25bfb898a3e4afe",
            "4bea943fc2de4f05bb3d10fb4db8913c"
          ]
        },
        "outputId": "b6dab289-99b9-44a5-9216-b600c38cb2b7"
      },
      "source": [
        "cdqa_pipeline.fit_reader(directory + 'data/' + 'cdqa-ru-coronavirus-v1.1.json')"
      ],
      "execution_count": 8,
      "outputs": [
        {
          "output_type": "display_data",
          "data": {
            "application/vnd.jupyter.widget-view+json": {
              "model_id": "6d9ea0d3da104086ad864e0b6760c188",
              "version_minor": 0,
              "version_major": 2
            },
            "text/plain": [
              "HBox(children=(FloatProgress(value=0.0, description='Epoch', max=2.0, style=ProgressStyle(description_width='i…"
            ]
          },
          "metadata": {
            "tags": []
          }
        },
        {
          "output_type": "display_data",
          "data": {
            "application/vnd.jupyter.widget-view+json": {
              "model_id": "a41bcc53834344ddb8e67243fd99f42c",
              "version_minor": 0,
              "version_major": 2
            },
            "text/plain": [
              "HBox(children=(FloatProgress(value=0.0, description='Iteration', max=118.0, style=ProgressStyle(description_wi…"
            ]
          },
          "metadata": {
            "tags": []
          }
        },
        {
          "output_type": "stream",
          "text": [
            "\n"
          ],
          "name": "stdout"
        },
        {
          "output_type": "display_data",
          "data": {
            "application/vnd.jupyter.widget-view+json": {
              "model_id": "b003955e05474979b0d53d6925bbe0e3",
              "version_minor": 0,
              "version_major": 2
            },
            "text/plain": [
              "HBox(children=(FloatProgress(value=0.0, description='Iteration', max=118.0, style=ProgressStyle(description_wi…"
            ]
          },
          "metadata": {
            "tags": []
          }
        },
        {
          "output_type": "stream",
          "text": [
            "\n",
            "\n"
          ],
          "name": "stdout"
        },
        {
          "output_type": "execute_result",
          "data": {
            "text/plain": [
              "QAPipeline(reader=BertQA(adam_epsilon=1e-08,\n",
              "                         bert_model='bert-base-multilingual-uncased',\n",
              "                         do_lower_case=True, fp16=False,\n",
              "                         gradient_accumulation_steps=1, learning_rate=3e-05,\n",
              "                         local_rank=-1, loss_scale=0, max_answer_length=30,\n",
              "                         n_best_size=20, no_cuda=False,\n",
              "                         null_score_diff_threshold=0.0, num_train_epochs=2,\n",
              "                         output_dir='drive/My Drive/qa/models/ru_reader/',\n",
              "                         predict_...\n",
              "                         server_port='', train_batch_size=10,\n",
              "                         verbose_logging=False, version_2_with_negative=False,\n",
              "                         warmup_proportion=0.1, warmup_steps=0),\n",
              "           retrieve_by_doc=False,\n",
              "           retriever=BM25Retriever(b=0.75, floor=None, k1=2.0, lowercase=True,\n",
              "                                   max_df=0.85, min_df=2, ngram_range=(1, 2),\n",
              "                                   preprocessor=None, stop_words='english',\n",
              "                                   token_pattern='(?u)\\\\b\\\\w\\\\w+\\\\b',\n",
              "                                   tokenizer=None, top_n=20, verbose=False,\n",
              "                                   vocabulary=None))"
            ]
          },
          "metadata": {
            "tags": []
          },
          "execution_count": 8
        }
      ]
    },
    {
      "cell_type": "code",
      "metadata": {
        "id": "9vBup9BN4HnY",
        "colab_type": "code",
        "colab": {}
      },
      "source": [
        "cdqa_pipeline.dump_reader(directory + 'models/'+'bert_qa_ru_coronavirus.joblib')"
      ],
      "execution_count": 0,
      "outputs": []
    },
    {
      "cell_type": "markdown",
      "metadata": {
        "id": "VU4SKeMpAjZ6",
        "colab_type": "text"
      },
      "source": [
        "## Instantiate the cdQA pipeline from a pre-trained reader model"
      ]
    },
    {
      "cell_type": "markdown",
      "metadata": {
        "id": "1uJW1UGRkekB",
        "colab_type": "text"
      },
      "source": [
        "Добавим в Retriever наши документы."
      ]
    },
    {
      "cell_type": "code",
      "metadata": {
        "id": "GhH_LN3ocnvR",
        "colab_type": "code",
        "outputId": "0d98d62f-d4b2-41aa-c24e-eadc723d9ade",
        "colab": {
          "base_uri": "https://localhost:8080/",
          "height": 336
        }
      },
      "source": [
        "cdqa_pipeline.fit_retriever(df=df)"
      ],
      "execution_count": 13,
      "outputs": [
        {
          "output_type": "execute_result",
          "data": {
            "text/plain": [
              "QAPipeline(reader=BertQA(adam_epsilon=1e-08,\n",
              "                         bert_model='bert-base-multilingual-uncased',\n",
              "                         do_lower_case=True, fp16=False,\n",
              "                         gradient_accumulation_steps=1, learning_rate=3e-05,\n",
              "                         local_rank=-1, loss_scale=0, max_answer_length=30,\n",
              "                         n_best_size=20, no_cuda=False,\n",
              "                         null_score_diff_threshold=0.0, num_train_epochs=2,\n",
              "                         output_dir='drive/My Drive/qa/models/ru_reader/',\n",
              "                         predict_...\n",
              "                         server_port='', train_batch_size=10,\n",
              "                         verbose_logging=False, version_2_with_negative=False,\n",
              "                         warmup_proportion=0.1, warmup_steps=0),\n",
              "           retrieve_by_doc=False,\n",
              "           retriever=BM25Retriever(b=0.75, floor=None, k1=2.0, lowercase=True,\n",
              "                                   max_df=0.85, min_df=2, ngram_range=(1, 2),\n",
              "                                   preprocessor=None, stop_words='english',\n",
              "                                   token_pattern='(?u)\\\\b\\\\w\\\\w+\\\\b',\n",
              "                                   tokenizer=None, top_n=20, verbose=False,\n",
              "                                   vocabulary=None))"
            ]
          },
          "metadata": {
            "tags": []
          },
          "execution_count": 13
        }
      ]
    },
    {
      "cell_type": "markdown",
      "metadata": {
        "id": "NWWAhSlp5_ai",
        "colab_type": "text"
      },
      "source": [
        "## Evaluate model"
      ]
    },
    {
      "cell_type": "code",
      "metadata": {
        "id": "tEk6S-bk3zSX",
        "colab_type": "code",
        "colab": {
          "base_uri": "https://localhost:8080/",
          "height": 116,
          "referenced_widgets": [
            "11bbfd2ff87c453fa711fbc09c4c7091",
            "eb447794c33644cbbf56bb598865dd2b",
            "8c34d735b6794aada092132eeb1dfe65",
            "776c6495e37c46a3a8ee2b9226055712",
            "35f652003d0f48e19ce36af91d210950",
            "224e2607010c4bfb9562061111a8c227",
            "b500ea5b1d3a4e98854a87dd0e5ae7bd",
            "f25cf21306bf4acfb0aa071976921d96"
          ]
        },
        "outputId": "2edf46d7-e024-4e12-d7c2-675644b17416"
      },
      "source": [
        "evaluate_pipeline(cdqa_pipeline, directory + 'data/' + 'cdqa-ru-coronavirus-v1.1.json')"
      ],
      "execution_count": 14,
      "outputs": [
        {
          "output_type": "display_data",
          "data": {
            "application/vnd.jupyter.widget-view+json": {
              "model_id": "11bbfd2ff87c453fa711fbc09c4c7091",
              "version_minor": 0,
              "version_major": 2
            },
            "text/plain": [
              "HBox(children=(FloatProgress(value=0.0, max=414.0), HTML(value='')))"
            ]
          },
          "metadata": {
            "tags": []
          }
        },
        {
          "output_type": "stream",
          "text": [
            "\n",
            "\n",
            "Evaluation results: {'exact_match': 5.314009661835748, 'f1': 14.788497069911307}\n"
          ],
          "name": "stdout"
        },
        {
          "output_type": "execute_result",
          "data": {
            "text/plain": [
              "{'exact_match': 5.314009661835748, 'f1': 14.788497069911307}"
            ]
          },
          "metadata": {
            "tags": []
          },
          "execution_count": 14
        }
      ]
    },
    {
      "cell_type": "code",
      "metadata": {
        "id": "4F-g-Yvx32PT",
        "colab_type": "code",
        "colab": {
          "base_uri": "https://localhost:8080/",
          "height": 50
        },
        "outputId": "dfd510a3-f755-4f56-9975-6fe0baaa6181"
      },
      "source": [
        "evaluate_reader(cdqa_pipeline, directory + 'data/' + 'cdqa-ru-coronavirus-v1.1.json')"
      ],
      "execution_count": 15,
      "outputs": [
        {
          "output_type": "stream",
          "text": [
            "Evaluation expects v-1.1, but got dataset with v-v1.1\n"
          ],
          "name": "stderr"
        },
        {
          "output_type": "execute_result",
          "data": {
            "text/plain": [
              "{'exact_match': 8.93719806763285, 'f1': 26.354934581472794}"
            ]
          },
          "metadata": {
            "tags": []
          },
          "execution_count": 15
        }
      ]
    },
    {
      "cell_type": "markdown",
      "metadata": {
        "id": "r2bcZFhVqtvj",
        "colab_type": "text"
      },
      "source": [
        "Точность получилась довольно низкой. Проверим как модель ответит на вопросы."
      ]
    },
    {
      "cell_type": "markdown",
      "metadata": {
        "id": "g9Wfg5tiCC7D",
        "colab_type": "text"
      },
      "source": [
        "## Making predictions"
      ]
    },
    {
      "cell_type": "code",
      "metadata": {
        "id": "kVK4MopMdU8l",
        "colab_type": "code",
        "outputId": "d6482b54-f167-431d-f43d-05ac4a1c282d",
        "colab": {
          "base_uri": "https://localhost:8080/",
          "height": 104
        }
      },
      "source": [
        "cdqa_pipeline.predict(query='Как передается коронавирус?')"
      ],
      "execution_count": 0,
      "outputs": [
        {
          "output_type": "execute_result",
          "data": {
            "text/plain": [
              "('Воздушно-капельным путем',\n",
              " 'Часто задаваемые вопросы.',\n",
              " 'Как передается коронавирус? Воздушно-капельным путем (при кашле или чихании), контактным путем (поручни в транспорте, дверные ручки и другие загрязненные поверхности и предметы). Как и другие респираторные вирусы, коронавирус распространяется через капли, которые образуются, когда инфицированный человек кашляет или чихает. Кроме того, он может распространяться, когда инфицированный человек касается любой загрязненной поверхности, например, дверной ручки. Люди заражаются, когда они касаются загрязненными руками рта, носа или глаз.',\n",
              " 4.793074290461236)"
            ]
          },
          "metadata": {
            "tags": []
          },
          "execution_count": 25
        }
      ]
    },
    {
      "cell_type": "code",
      "metadata": {
        "id": "zm1G-BUUd7T7",
        "colab_type": "code",
        "outputId": "90b84793-b41d-4b4d-9265-1579f7ab4265",
        "colab": {
          "base_uri": "https://localhost:8080/",
          "height": 238
        }
      },
      "source": [
        "cdqa_pipeline.predict(query='Показания к госпитализации при коронавирусе?', n_predictions = 3)"
      ],
      "execution_count": 16,
      "outputs": [
        {
          "output_type": "execute_result",
          "data": {
            "text/plain": [
              "[('читайте меньше новостей',\n",
              "  'Бытовые вопросы.',\n",
              "  'Лекарств нет, прививок тоже — как хотя бы тревожиться поменьше? Мы сделали специальную инструкцию как раз про это. Главный совет самый простой и одновременно самый трудный: если вам тревожно из-за новостей о коронавирусе, читайте меньше новостей. Также полезно найти время пообщаться с близкими, заняться спортом или хотя бы немного расслабиться.',\n",
              "  2.496142509344046),\n",
              " ('беременность',\n",
              "  'По-моему, меня неправильно лечат от коронавируса. Как быть? Кстати, а как лечить правильно?',\n",
              "  'Но, когда эти симптомы появятся, не будет уже поздно? Нет. От появления симптомов до начала одышки и необходимости лечь в больницу обычно проходит 5–8 дней. После этого до развития тяжелого и действительно опасного состояния проходит еще пара дней.  У некоторых людей высок риск того, что заболевание будет прогрессировать быстро и примет тяжелую форму. По их поводу решения принимаются несколько иначе и индивидуально. В любом случае к их состоянию нужно более пристальное внимание со стороны медицинских работников (хотя это не означает автоматически, что человека необходимо госпитализировать). Когда врач оценивает, нужно ли класть пациента в больницу, он может учитывать разные факторы, в том числе есть ли кому ухаживать за человеком дома и можно ли его при этом изолировать в отдельной комнате. В российских рекомендациях сказано, что госпитализация заболевшему человеку нужна и в том случае, если дома есть кто-то из группы риска, то есть кому крайне нежелательно болеть. Надо сказать, в этом документе довольно большой список случаев, в которых человека необходимо положить в больницу. При этом одно из показаний — беременность, в то время как в других рекомендациях Минздрава непосредственно о помощи беременным сказано, что «при легкой форме заболевания беременные могут получать лечение в домашних условиях». Также если человек с новой коронавирусной инфекцией по каким-то причинам, не связанным со здоровьем (например, он живет очень далеко от больницы), не сможет приехать в больницу в случае ухудшения состояния, его рекомендуется госпитализировать.',\n",
              "  2.307025905527619),\n",
              " ('Проверка на ADE тоже занимает время',\n",
              "  'Исчерпывающий (ну, почти) путеводитель «Медузы» по всему, что уже известно о вакцинах против COVID-19 — когда, где и какими они будут.',\n",
              "  'Хороший пример — риск антителозависимого усиления инфекции (ADE), при котором возникает теоретический риск, что антитела из вакцины, предназначенные для борьбы с одним штаммом коронавируса, будут облегчать инфекцию другим штаммом коронавируса. Ученые не до конца понимают, какие именно свойства вакцин провоцируют ADE — поэтому приходится просто экспериментировать и смотреть, есть ли этот эффект или его нет. Проверка на ADE тоже занимает время.',\n",
              "  2.1996020369430975)]"
            ]
          },
          "metadata": {
            "tags": []
          },
          "execution_count": 16
        }
      ]
    },
    {
      "cell_type": "code",
      "metadata": {
        "id": "XZ8Lrn-OCIzm",
        "colab_type": "code",
        "colab": {}
      },
      "source": [
        "query = 'Что отражает коэффициент выявления заразившихся?'\n",
        "prediction = cdqa_pipeline.predict(query)"
      ],
      "execution_count": 0,
      "outputs": []
    },
    {
      "cell_type": "code",
      "metadata": {
        "id": "w6v-2twPb2Bx",
        "colab_type": "code",
        "outputId": "5ecae8fa-68a2-415c-d86d-f6f58b4a3537",
        "colab": {
          "base_uri": "https://localhost:8080/",
          "height": 104
        }
      },
      "source": [
        "print('query: {}'.format(query))\n",
        "print('answer: {}'.format(prediction[0]))\n",
        "print('title: {}'.format(prediction[1]))\n",
        "print('paragraph: {}'.format(prediction[2]))"
      ],
      "execution_count": 18,
      "outputs": [
        {
          "output_type": "stream",
          "text": [
            "query: Что отражает коэффициент выявления заразившихся?\n",
            "answer: полученными группами ученых Imperial Сollege London\n",
            "title: Пик эпидемии в России придется на середину мая. Но тестирование нужно расширять и улучшать — иначе на этом пике можно застрять на несколько месяцев.\n",
            "paragraph: «Коэффициент выявления» за время, прошедшее с предыдущего прогноза, резко вырос: если в конце марта в России выявляли около 20% инфицированных (с симптомами и без), то по данным на 17 апреля — около 45%. Наш коэффициент согласуется с данными, полученными группами ученых Imperial Сollege London (тут) и Университета Мельбурна (тут), которые представили свой прогноз для России (как и для десятков других стран).\n"
          ],
          "name": "stdout"
        }
      ]
    },
    {
      "cell_type": "code",
      "metadata": {
        "id": "eBrqEKvMjkET",
        "colab_type": "code",
        "colab": {
          "base_uri": "https://localhost:8080/",
          "height": 104
        },
        "outputId": "1fdf38eb-628f-481e-f4eb-4635733ab35d"
      },
      "source": [
        "cdqa_pipeline.predict(query='Как правильно мыть руки?')"
      ],
      "execution_count": 22,
      "outputs": [
        {
          "output_type": "execute_result",
          "data": {
            "text/plain": [
              "('С мылом, не менее 20 секунд',\n",
              " 'Бытовые вопросы.',\n",
              " 'Обращаться за медицинской помощью нужно, если возникли тревожные симптомы: появилась одышка, боль в груди, спутанность сознания, посинели губы или лицо, трудно проснуться. В списке ВОЗ нет рекомендации носить маску, но о ней — разговор особый (чуть ниже). Ок, как правильно мыть руки? С мылом, не менее 20 секунд, не пропуская тыльной стороны ладоней. Мы подготовили подробную инструкцию и даже плакаты о том, как это делать, исполняя любимую песню. Пользуйтесь.',\n",
              " 7.716528450772378)"
            ]
          },
          "metadata": {
            "tags": []
          },
          "execution_count": 22
        }
      ]
    },
    {
      "cell_type": "code",
      "metadata": {
        "id": "Q94Nhz7Jk6NV",
        "colab_type": "code",
        "colab": {
          "base_uri": "https://localhost:8080/",
          "height": 104
        },
        "outputId": "c0e32203-b2c5-4eea-84cd-6ff9214ea9e0"
      },
      "source": [
        "cdqa_pipeline.predict(query='Что нужно для самодельного санитайзера?')"
      ],
      "execution_count": 25,
      "outputs": [
        {
          "output_type": "execute_result",
          "data": {
            "text/plain": [
              "('Тестов нужно очень много',\n",
              " 'Научные вопросы.',\n",
              " 'Как тестируют на коронавирус? Есть три типа тестов: детекция генетического материала, тест на антитела и томография. Изо всех них почти всегда, когда речь идет о тестах, имеется в виду именно первый тип; делается он с помощью классической полимеразной цепной реакции — ПЦР. Разные страны преимущественно полагаются на тесты собственного производства, которые на самом деле не сильно отличаются друг от друга. Тестов нужно очень много.',\n",
              " 2.377467736611582)"
            ]
          },
          "metadata": {
            "tags": []
          },
          "execution_count": 25
        }
      ]
    },
    {
      "cell_type": "code",
      "metadata": {
        "id": "3fSOmAeGlUbv",
        "colab_type": "code",
        "colab": {
          "base_uri": "https://localhost:8080/",
          "height": 104
        },
        "outputId": "58f00d7b-0745-4e42-f905-53e63f69b836"
      },
      "source": [
        "cdqa_pipeline.predict(query='Люди какого возраста наиболее уязвимы?')"
      ],
      "execution_count": 27,
      "outputs": [
        {
          "output_type": "execute_result",
          "data": {
            "text/plain": [
              "('людям старше 65 лет',\n",
              " 'Часто задаваемые вопросы.',\n",
              " 'Кто в группе риска? Заразиться вирусом могут люди всех возрастов. Степень тяжести заболевания зависит от индивидуальных факторов. Однако людям старше 65 лет, а также гражданам с ослабленной иммунной системой и хроническими заболеваниями рекомендуется быть наиболее осторожными и внимательными к своему здоровью. Детям и внукам пожилых людей нужно позаботиться о старшем поколении, завезти продукты, лекарства, соблюдая все предосторожности, не контактируя с ними.',\n",
              " 2.2798373993956864)"
            ]
          },
          "metadata": {
            "tags": []
          },
          "execution_count": 27
        }
      ]
    },
    {
      "cell_type": "code",
      "metadata": {
        "id": "QdfYsLyDleRm",
        "colab_type": "code",
        "colab": {
          "base_uri": "https://localhost:8080/",
          "height": 238
        },
        "outputId": "52109c2d-1b56-4050-941a-2ff2b26c5917"
      },
      "source": [
        "cdqa_pipeline.predict(query='Чем грипп похож на коронавирус?', n_predictions = 3)"
      ],
      "execution_count": 28,
      "outputs": [
        {
          "output_type": "execute_result",
          "data": {
            "text/plain": [
              "[('Если у вас нет выраженных симптомов',\n",
              "  'Бытовые вопросы.',\n",
              "  'Как можно сдать тест на коронавирус? И нужно ли? Если у вас нет выраженных симптомов — нет, не нужно. Вне зависимости от результата теста, вам все равно предстоит соблюдать карантин и находиться дома. Обращаться за медпомощью следует только при повышении температуры, появлении кашля и затруднении дыхания. Вот здесь об этом написано подробнее.',\n",
              "  2.8524385507728165),\n",
              " ('распространяется через капли',\n",
              "  'Часто задаваемые вопросы.',\n",
              "  'Как передается коронавирус? Воздушно-капельным путем (при кашле или чихании), контактным путем (поручни в транспорте, дверные ручки и другие загрязненные поверхности и предметы). Как и другие респираторные вирусы, коронавирус распространяется через капли, которые образуются, когда инфицированный человек кашляет или чихает. Кроме того, он может распространяться, когда инфицированный человек касается любой загрязненной поверхности, например, дверной ручки. Люди заражаются, когда они касаются загрязненными руками рта, носа или глаз.',\n",
              "  2.4970700599840487),\n",
              " ('раз опаснее сезонного гриппа',\n",
              "  'Научные вопросы.',\n",
              "  'Какая реальная смертность у этого заболевания? Говорят, оно не страшнее гриппа? Летальность COVID-19 уже довольно хорошо известна и составляет около 1% или чуть меньше. Точное значение зависит от возрастной структуры конкретной популяции и уровня медицинской помощи в стране. О том, как правильно считать летальность и как понимать значения, которые сообщают СМИ, мы подробно писали. Приведенная оценка уже учитывает большое число бессимптомных случаев, поэтому апеллирование к летальности обычного сезонного гриппа совершенно необоснованно. В целом для популяции коронавирус в 6–10 раз опаснее сезонного гриппа.',\n",
              "  2.369058562298719)]"
            ]
          },
          "metadata": {
            "tags": []
          },
          "execution_count": 28
        }
      ]
    },
    {
      "cell_type": "code",
      "metadata": {
        "id": "emg5LB0Iln__",
        "colab_type": "code",
        "colab": {
          "base_uri": "https://localhost:8080/",
          "height": 238
        },
        "outputId": "275e7b2d-cc27-4df1-d273-d70ee8457d2b"
      },
      "source": [
        "cdqa_pipeline.predict(query='От чего зависит цена маски?', n_predictions = 3)"
      ],
      "execution_count": 29,
      "outputs": [
        {
          "output_type": "execute_result",
          "data": {
            "text/plain": [
              "[('придется ли вводить карантин снова',\n",
              "  'Пик эпидемии в России придется на середину мая. Но тестирование нужно расширять и улучшать — иначе на этом пике можно застрять на несколько месяцев.',\n",
              "  'Владимир Путин 28 апреля сказал, что пик эпидемии в России еще не пройден, но пообещал, что с 12 мая в некоторых регионах начнут постепенно отменять ограничительные меры. Как показывает моделирование «Медузы», первая волна эпидемии коронавируса в стране действительно приближается к перелому. В середине мая, скорее всего, «пик» эпидемии будет пройден: каждый день число вновь заразившихся будет меньше, чем число выздоровевших. Тогда остро встанет вопрос, как и когда отменить ограничительные меры: нельзя спешить, потому что спешка грозит новыми вспышками эпидемии; но нельзя и долго ждать, потому что ограничения разрушают экономику. От того, как будет решена дилемма, зависит, придется ли вводить карантин снова — для борьбы со второй волной эпидемии.',\n",
              "  3.2139932601470385),\n",
              " ('из-за различной пропитки',\n",
              "  'Как правильно носить маску?',\n",
              "  'Маски могут иметь разную конструкцию. Они могут быть одноразовыми или могут применяться многократно. Есть маски, которые служат 2, 4, 6 часов. Стоимость этих масок различная, из-за различной пропитки. Но нельзя все время носить одну и ту же маску, тем самым вы можете инфицировать дважды сами себя. Какой стороной внутрь носить медицинскую маску — непринципиально. Чтобы обезопасить себя от заражения, крайне важно правильно ее носить: — обычную медицинскую маску необходимо менять каждые 2 часа; — маска должна тщательно закрепляться, плотно закрывать рот и нос, не оставляя зазоров; — старайтесь не касаться поверхностей маски при ее снятии, если вы ее коснулись, тщательно вымойте руки с мылом или спиртовым средством; — влажную или отсыревшую маску следует сменить на новую, сухую; — не используйте вторично одноразовую маску; — использованную одноразовую маску следует немедленно выбросить в отходы.',\n",
              "  2.1919290580219832),\n",
              " ('Скорее всего, нет',\n",
              "  'Бытовые вопросы.',\n",
              "  'А что насчет противотуберкулезной прививки БЦЖ? Она правда защищает от коронавируса? Скорее всего, нет. Исследования того, как еще (помимо защиты от туберкулеза) эта прививка может воздействовать на иммунную систему, действительно ведутся. Однако относительно COVID-19 есть только слабые данные, основанные на корреляции, у которой могут быть совершенно другие, никак не связанные с БЦЖ причины. Кроме того, напомним, что в Китае такая прививка есть почти у всех, однако это не защитило страну от распространения эпидемии.',\n",
              "  1.6879663339864668)]"
            ]
          },
          "metadata": {
            "tags": []
          },
          "execution_count": 29
        }
      ]
    },
    {
      "cell_type": "code",
      "metadata": {
        "id": "Vo01CG40lxlO",
        "colab_type": "code",
        "colab": {
          "base_uri": "https://localhost:8080/",
          "height": 238
        },
        "outputId": "cc97a11a-a71d-4d47-e2d1-a569cc8a6358"
      },
      "source": [
        "cdqa_pipeline.predict(query='Что предпринять чтобы защитить себя от заражения коронавирусом?', n_predictions = 3)"
      ],
      "execution_count": 30,
      "outputs": [
        {
          "output_type": "execute_result",
          "data": {
            "text/plain": [
              "[('Заразиться новым коронавирусом',\n",
              "  'Мифы и ложные представления.',\n",
              "  'Правда ли, что новым коронавирусом могут заразиться только пожилые люди, или молодежь тоже восприимчива к этой инфекции? Заразиться новым коронавирусом (COVID-19) могут представители всех возрастных категорий. Как представляется, пожилые люди и люди, больные определенными заболеваниями (например, астмой, диабетом, болезнью сердца), подвержены повышенному риску развития тяжелых форм коронавирусной инфекции. ВОЗ рекомендует лицам любого возраста принимать меры по защите от заражения, например посредством соблюдения гигиены рук и кашлевой гигиены.',\n",
              "  4.369935346182076),\n",
              " ('крайне важно правильно ее носить',\n",
              "  'Как правильно носить маску?',\n",
              "  'Маски могут иметь разную конструкцию. Они могут быть одноразовыми или могут применяться многократно. Есть маски, которые служат 2, 4, 6 часов. Стоимость этих масок различная, из-за различной пропитки. Но нельзя все время носить одну и ту же маску, тем самым вы можете инфицировать дважды сами себя. Какой стороной внутрь носить медицинскую маску — непринципиально. Чтобы обезопасить себя от заражения, крайне важно правильно ее носить: — обычную медицинскую маску необходимо менять каждые 2 часа; — маска должна тщательно закрепляться, плотно закрывать рот и нос, не оставляя зазоров; — старайтесь не касаться поверхностей маски при ее снятии, если вы ее коснулись, тщательно вымойте руки с мылом или спиртовым средством; — влажную или отсыревшую маску следует сменить на новую, сухую; — не используйте вторично одноразовую маску; — использованную одноразовую маску следует немедленно выбросить в отходы.',\n",
              "  4.351614625066788),\n",
              " ('Часто проветривайте помещения',\n",
              "  'Часто задаваемые вопросы.',\n",
              "  'Самое важное, что можно сделать, чтобы защитить себя, – это соблюдать правила личной гигиены и сократить посещения общественных и людных мест. Держите руки в чистоте, часто мойте их водой с мылом или используйте дезинфицирующее средство. Старайтесь не касаться рта, носа или глаз немытыми руками (обычно такие прикосновения неосознанно совершаются нами в среднем 15 раз в час). На работе и дома регулярно очищайте и дезинфицируйте поверхности и устройства, к которым вы прикасаетесь (клавиатура компьютера или ноутбука, экран смартфона, пульты, выключатели и дверные ручки). Носите с собой одноразовые салфетки и всегда прикрывайте нос и рот, когда вы кашляете или чихаете. Не ешьте еду (орешки, чипсы, печенье и другие снеки) из общих упаковок или посуды, если другие люди погружали в них свои пальцы. Объясните детям, как распространяются микробы и почему важна хорошая гигиена рук и лица. Расскажите детям о профилактике коронавируса. Часто проветривайте помещения. По возможности, соблюдайте дистанцию не менее 1 метра при общении с коллегами, друзьями, родными и близкими. Если вы обнаружили симптомы, схожие с теми, которые вызывает коронавирус, оставайтесь дома и вызывайте врача.',\n",
              "  3.220154520995857)]"
            ]
          },
          "metadata": {
            "tags": []
          },
          "execution_count": 30
        }
      ]
    },
    {
      "cell_type": "code",
      "metadata": {
        "id": "EthHygHHmBiB",
        "colab_type": "code",
        "colab": {
          "base_uri": "https://localhost:8080/",
          "height": 238
        },
        "outputId": "9d213da2-55ea-4813-e49f-4b33c5ab4fff"
      },
      "source": [
        "cdqa_pipeline.predict(query='Лучший способ борьбы с эпидемией?', n_predictions = 3)"
      ],
      "execution_count": 31,
      "outputs": [
        {
          "output_type": "execute_result",
          "data": {
            "text/plain": [
              "[('ограничительные меры',\n",
              "  'Пик эпидемии в России придется на середину мая. Но тестирование нужно расширять и улучшать — иначе на этом пике можно застрять на несколько месяцев.',\n",
              "  'Точки — натуральный логарифм отношения зарегистрированных случаев и выздоровевших/умерших (то есть количества случаев за 15 дней до того) за каждый день — лежат (с отклонениями) на прямой линии, представляющей наилучшее линейное приближение. Все параметры эпидемии и борьбы с ней —ограничительные меры, изменение эффективности тестирования, коэффициент воспроизводства в разные моменты времени — «записаны» в наклон функции (стандартное отклонение распределения данных).',\n",
              "  3.152241968604963),\n",
              " ('среднего',\n",
              "  'Что происходит в других странах?',\n",
              "  'При таком сравнении стран становится понятно, что на самом деле Германия не сильно отличается по динамике от Италии или Франции — скорее находится на более раннем этапе своей эпидемии. Есть на этом графике и те страны и территории, которые справляются явно лучше среднего: это Тайвань и Сингапур. Среди крупных государств это Япония, Южная Корея, Австралия. Многие эксперты связывают повышенную эффективность этих регионов стран в борьбе с эпидемией с тем, что именно они еще в 2002–2003 годах больше всего пострадали от предшественника COVID-19 — «атипичной пневмонии» ТОРС/SARS. Однако достоверно этого утверждать нельзя.',\n",
              "  2.966030410112652),\n",
              " ('Массовое тестирование',\n",
              "  'Летом эпидемия коронавируса в России должна пойти на спад. Теперь главный вопрос, который волнует всех, — как предотвратить вторую волну?',\n",
              "  'Массовое тестирование. Вероятно, это лучший способ борьбы с эпидемией. Однако по-настоящему массовое, «сплошное», то есть без привязки к отдельным группам населения, тестирование стоит дорого и требует больших организационных усилий. Даже в Германии, которая значительно смягчила эпидемию за счет обширной программы тестирования (тесты сделали уже 8% граждан), склоняются к тому, чтобы делать анализы на наличие вируса в основном представителям «групп риска», говорит Кристиан Дростен; Германии пришлось дополнить тестирование ограничительными мерами, пусть и не самыми жесткими.',\n",
              "  2.854880380378674)]"
            ]
          },
          "metadata": {
            "tags": []
          },
          "execution_count": 31
        }
      ]
    },
    {
      "cell_type": "markdown",
      "metadata": {
        "id": "669BNqEt4Ys4",
        "colab_type": "text"
      },
      "source": [
        "## Итог. Получение ответа."
      ]
    },
    {
      "cell_type": "markdown",
      "metadata": {
        "id": "b10jiPovKfIB",
        "colab_type": "text"
      },
      "source": [
        "Получение ответа в одной функции. Вместо 1 ответа можно получить несколько наиболее релевантных, передав в функцию get_answer вместе с вопросом число n_predictions, если вы не хотите получить дополнительную информацию об ответе, передайте flag = False."
      ]
    },
    {
      "cell_type": "code",
      "metadata": {
        "id": "LrGOHoxj4SdJ",
        "colab_type": "code",
        "colab": {}
      },
      "source": [
        "def get_answer(query, n_predictions = 1, flag = True):\n",
        "  def returnRightList(my_df):\n",
        "    for i, k in enumerate(my_df['paragraphs']):\n",
        "      sent_list = re.split(r'\\',', k[1:-1])\n",
        "      sent_list = [s.strip() for s in sent_list]\n",
        "      sent_list = [s.strip(\"\\'\") for s in sent_list]\n",
        "      my_df['paragraphs'][i] = sent_list\n",
        "    \n",
        "    return my_df\n",
        "\n",
        "  df = pd.read_csv('drive/My Drive/qa/data/dataframe.csv', sep=',')\n",
        "  df = returnRightList(df)\n",
        "\n",
        "  cdqa_pipeline = QAPipeline(reader='drive/My Drive/qa/models/bert_qa_ru_coronavirus.joblib')\n",
        "  cdqa_pipeline.fit_retriever(df=df)\n",
        "  if n_predictions>1:\n",
        "    predictions = cdqa_pipeline.predict(query, n_predictions)\n",
        "    answers = []\n",
        "    for prediction in predictions:\n",
        "      answers.append(prediction[0])\n",
        "      if flag:\n",
        "        print('Вопрос: {}'.format(query))\n",
        "        print('Ответ: {}'.format(prediction[0]))\n",
        "        print('Заголовок документа: {}'.format(prediction[1]))\n",
        "        print('Абзац: {}'.format(prediction[2]))\n",
        "        print()\n",
        "    return answers\n",
        "  else:\n",
        "    prediction = cdqa_pipeline.predict(query)\n",
        "    if flag:\n",
        "      print('Вопрос: {}'.format(query))\n",
        "      print('Ответ: {}'.format(prediction[0]))\n",
        "      print('Заголовок документа: {}'.format(prediction[1]))\n",
        "      print('Абзац: {}'.format(prediction[2]))\n",
        "      print()\n",
        "    return prediction[0]"
      ],
      "execution_count": 0,
      "outputs": []
    },
    {
      "cell_type": "code",
      "metadata": {
        "id": "ZYxNComEFxxt",
        "colab_type": "code",
        "colab": {
          "base_uri": "https://localhost:8080/",
          "height": 34
        },
        "outputId": "f8f98fd6-ad2d-4efa-94c6-1a46ef8b6cfa"
      },
      "source": [
        "get_answer('Что может помочь уменьшить волну эпидемии?', n_predictions=3, flag=False)"
      ],
      "execution_count": 48,
      "outputs": [
        {
          "output_type": "execute_result",
          "data": {
            "text/plain": [
              "['% населения', 'пройдет пик', 'не прибегая к новым карантинам']"
            ]
          },
          "metadata": {
            "tags": []
          },
          "execution_count": 48
        }
      ]
    },
    {
      "cell_type": "code",
      "metadata": {
        "id": "l0AMCRJUmkFh",
        "colab_type": "code",
        "colab": {
          "base_uri": "https://localhost:8080/",
          "height": 34
        },
        "outputId": "1835c680-dcb0-41e2-aa1c-72c53bb59d30"
      },
      "source": [
        "get_answer('Редкие симптомы коронавируса?', n_predictions=3, flag=False)"
      ],
      "execution_count": 49,
      "outputs": [
        {
          "output_type": "execute_result",
          "data": {
            "text/plain": [
              "['высокая температура тела, кашель', 'человека', 'Нет']"
            ]
          },
          "metadata": {
            "tags": []
          },
          "execution_count": 49
        }
      ]
    },
    {
      "cell_type": "code",
      "metadata": {
        "id": "qRi_GVU7nb0E",
        "colab_type": "code",
        "colab": {
          "base_uri": "https://localhost:8080/",
          "height": 138
        },
        "outputId": "79c79386-3d15-42ed-ce87-f54f6153cd32"
      },
      "source": [
        "get_answer('Что такое пандемия?')"
      ],
      "execution_count": 45,
      "outputs": [
        {
          "output_type": "stream",
          "text": [
            "Вопрос: Что такое пандемия?\n",
            "Ответ: это просто глобальная эпидемия\n",
            "Заголовок документа: Научные вопросы.\n",
            "Абзац: Что за слово такое — пандемия? Пандемия — это просто глобальная эпидемия. А эпидемия — это резкое превышение заболеваемости над ожидаемым многолетним уровнем. Строгого численного определения у этих понятий нет, как нет никакой магии и в самом понятии пандемии. Для ВОЗ объявление вспышки коронавируса пандемией — это скорее политический жест, а не научное открытие. Главное, что при этом происходит, — признание того, что сдержать инфекцию локальными мерами не удалось и что для дальнейшей борьбы требуются усилия многих стран.\n",
            "\n"
          ],
          "name": "stdout"
        },
        {
          "output_type": "execute_result",
          "data": {
            "text/plain": [
              "'это просто глобальная эпидемия'"
            ]
          },
          "metadata": {
            "tags": []
          },
          "execution_count": 45
        }
      ]
    },
    {
      "cell_type": "code",
      "metadata": {
        "id": "8V_u2Frpo2KE",
        "colab_type": "code",
        "colab": {
          "base_uri": "https://localhost:8080/",
          "height": 339
        },
        "outputId": "759dcda6-fb35-480f-eb84-01620c769246"
      },
      "source": [
        "get_answer('Коронавирус опаснее гриппа?', n_predictions=3)"
      ],
      "execution_count": 51,
      "outputs": [
        {
          "output_type": "stream",
          "text": [
            "Вопрос: Коронавирус опаснее гриппа?\n",
            "Ответ: составляет 3 дня, а у COVID-19 – 5-6 дней\n",
            "Заголовок документа: Часто задаваемые вопросы.\n",
            "Абзац: В чем разница между коронавирусом и вирусом гриппа? Коронавирус и вирус гриппа похожи основными симптомами, способами передачи и профилактики, но имеют и принципиальные различия. Например, инкубационный период: у гриппа он составляет 3 дня, а у COVID-19 – 5-6 дней. Также коронавирусная инфекция вызывает больше тяжелых и критических случаев, что, в свою очередь, приводит к более высоким показателям смертности, чем у сезонного гриппа.\n",
            "\n",
            "Вопрос: Коронавирус опаснее гриппа?\n",
            "Ответ: раз опаснее сезонного гриппа\n",
            "Заголовок документа: Научные вопросы.\n",
            "Абзац: Какая реальная смертность у этого заболевания? Говорят, оно не страшнее гриппа? Летальность COVID-19 уже довольно хорошо известна и составляет около 1% или чуть меньше. Точное значение зависит от возрастной структуры конкретной популяции и уровня медицинской помощи в стране. О том, как правильно считать летальность и как понимать значения, которые сообщают СМИ, мы подробно писали. Приведенная оценка уже учитывает большое число бессимптомных случаев, поэтому апеллирование к летальности обычного сезонного гриппа совершенно необоснованно. В целом для популяции коронавирус в 6–10 раз опаснее сезонного гриппа.\n",
            "\n",
            "Вопрос: Коронавирус опаснее гриппа?\n",
            "Ответ: в клетках гусениц\n",
            "Заголовок документа: Исчерпывающий (ну, почти) путеводитель «Медузы» по всему, что уже известно о вакцинах против COVID-19 — когда, где и какими они будут.\n",
            "Абзац: Кто занимается вакциной и на каком она этапе? По данным ВОЗ, на 30 апреля 2020 года ни одна белковая вакцина еще не перешагнула порог доклинических испытаний. А если и перешагнет, то маловероятно, что такие вакцины станут массовыми. Хотя в теории возможность производства вирусных белков в большом количестве существует — например, у компании Sanofi есть технология, позволяющая «штамповать» белки вирусов гриппа в клетках гусениц. Но делать вакцины таким способом очень дорого и сложно.\n",
            "\n"
          ],
          "name": "stdout"
        },
        {
          "output_type": "execute_result",
          "data": {
            "text/plain": [
              "['составляет 3 дня, а у COVID-19 – 5-6 дней',\n",
              " 'раз опаснее сезонного гриппа',\n",
              " 'в клетках гусениц']"
            ]
          },
          "metadata": {
            "tags": []
          },
          "execution_count": 51
        }
      ]
    },
    {
      "cell_type": "code",
      "metadata": {
        "id": "InITa9oFpLCH",
        "colab_type": "code",
        "colab": {
          "base_uri": "https://localhost:8080/",
          "height": 138
        },
        "outputId": "c21318ea-935d-45ef-b1ff-33794f04af1d"
      },
      "source": [
        "get_answer('Сколько занимает разработка вакцины?')"
      ],
      "execution_count": 53,
      "outputs": [
        {
          "output_type": "stream",
          "text": [
            "Вопрос: Сколько занимает разработка вакцины?\n",
            "Ответ: сама вакцинация — то есть год или два\n",
            "Заголовок документа: Научные вопросы.\n",
            "Абзац: Однако в невакцинированной популяции вторичная вспышка может все еще случиться в любой момент. В худшем случае карантин придется держать столько времени, сколько займут разработка вакцины и сама вакцинация — то есть год или два. В этом случае речь будет идти, скорее всего, не о полном локдауне на два года, а об отдельных мерах вроде перевода школьников на удаленное обучение или введении особых систем слежения за потенциальными носителями.\n",
            "\n"
          ],
          "name": "stdout"
        },
        {
          "output_type": "execute_result",
          "data": {
            "text/plain": [
              "'сама вакцинация — то есть год или два'"
            ]
          },
          "metadata": {
            "tags": []
          },
          "execution_count": 53
        }
      ]
    }
  ]
}